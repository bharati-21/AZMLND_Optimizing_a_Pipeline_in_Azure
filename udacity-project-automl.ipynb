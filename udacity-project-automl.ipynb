{
 "cells": [
  {
   "cell_type": "code",
   "execution_count": 3,
   "metadata": {},
   "outputs": [
    {
     "name": "stdout",
     "output_type": "stream",
     "text": [
      "Experiment created\n",
      "WORKSPACE DETAILS:\n",
      "Workspace name: quick-starts-ws-134051\n",
      "Azure region: southcentralus\n",
      "Subscription id: 5a4ab2ba-6c51-4805-8155-58759ad589d8\n",
      "Resource group: aml-quickstarts-134051\n"
     ]
    }
   ],
   "source": [
    "from azureml.core import Workspace, Experiment\n",
    "\n",
    "ws = Workspace.from_config()\n",
    "experiment = Experiment(ws, 'Bank_Marketing_AutoML')\n",
    "print(\"Experiment created\")\n",
    "\n",
    "print('WORKSPACE DETAILS:\\nWorkspace name: ' + ws.name, \n",
    "      'Azure region: ' + ws.location, \n",
    "      'Subscription id: ' + ws.subscription_id, \n",
    "      'Resource group: ' + ws.resource_group, sep = '\\n')\n",
    "\n",
    "run = experiment.start_logging()"
   ]
  },
  {
   "cell_type": "code",
   "execution_count": 4,
   "metadata": {},
   "outputs": [
    {
     "name": "stdout",
     "output_type": "stream",
     "text": [
      "Existing compute target found... Using it\n",
      "Succeeded\n",
      "AmlCompute wait for completion finished\n",
      "\n",
      "Minimum number of nodes requested have been provisioned\n"
     ]
    }
   ],
   "source": [
    "from azureml.core.compute import ComputeTarget, AmlCompute\n",
    "from azureml.core.compute_target import ComputeTargetException\n",
    "# TODO: Create compute cluster\n",
    "# Use vm_size = \"Standard_D2_V2\" in your provisioning configuration.\n",
    "# max_nodes should be no greater than 4.\n",
    "### YOUR CODE HERE ###\n",
    "\n",
    "cpu_cluster_name = \"cpu-cluster\"\n",
    "\n",
    "# to check whether the compute cluster exists already or not\n",
    "try:\n",
    "    cpu_cluster = ComputeTarget(workspace=ws, name=cpu_cluster_name)\n",
    "    print(\"Existing compute target found... Using it\")\n",
    "\n",
    "except ComputeTargetException:\n",
    "    print(\"Creating new Compute Target... \" + cpu_cluster_name)\n",
    "    provisioning_compute_config = AmlCompute.provisioning_configuration(vm_size=\"STANDARD_D2_V2\", max_nodes=4)\n",
    "    cpu_cluster = ComputeTarget.create(ws, cpu_cluster_name, provisioning_compute_config)\n",
    "\n",
    "cpu_cluster.wait_for_completion(show_output=True)"
   ]
  },
  {
   "cell_type": "code",
   "execution_count": 5,
   "metadata": {},
   "outputs": [],
   "source": [
    "from azureml.data.dataset_factory import TabularDatasetFactory\n",
    "\n",
    "# Create TabularDataset using TabularDatasetFactory\n",
    "# Data is available at: \n",
    "# \"https://automlsamplenotebookdata.blob.core.windows.net/automl-sample-notebook-data/bankmarketing_train.csv\"\n",
    "\n",
    "### YOUR CODE HERE ###\n",
    "\n",
    "url_path = \"https://automlsamplenotebookdata.blob.core.windows.net/automl-sample-notebook-data/bankmarketing_train.csv\"\n",
    "ds = TabularDatasetFactory.from_delimited_files(path=url_path)"
   ]
  },
  {
   "cell_type": "code",
   "execution_count": null,
   "metadata": {},
   "outputs": [],
   "source": [
    "# checking the uploaded data\n",
    "ds_dataframe = ds.to_pandas_dataframe()\n",
    "ds_dataframe.head()"
   ]
  },
  {
   "cell_type": "code",
   "execution_count": 6,
   "metadata": {},
   "outputs": [
    {
     "data": {
      "text/html": [
       "<div>\n",
       "<style scoped>\n",
       "    .dataframe tbody tr th:only-of-type {\n",
       "        vertical-align: middle;\n",
       "    }\n",
       "\n",
       "    .dataframe tbody tr th {\n",
       "        vertical-align: top;\n",
       "    }\n",
       "\n",
       "    .dataframe thead th {\n",
       "        text-align: right;\n",
       "    }\n",
       "</style>\n",
       "<table border=\"1\" class=\"dataframe\">\n",
       "  <thead>\n",
       "    <tr style=\"text-align: right;\">\n",
       "      <th></th>\n",
       "      <th>age</th>\n",
       "      <th>marital</th>\n",
       "      <th>default</th>\n",
       "      <th>housing</th>\n",
       "      <th>loan</th>\n",
       "      <th>month</th>\n",
       "      <th>day_of_week</th>\n",
       "      <th>duration</th>\n",
       "      <th>campaign</th>\n",
       "      <th>pdays</th>\n",
       "      <th>...</th>\n",
       "      <th>contact_cellular</th>\n",
       "      <th>contact_telephone</th>\n",
       "      <th>education_basic.4y</th>\n",
       "      <th>education_basic.6y</th>\n",
       "      <th>education_basic.9y</th>\n",
       "      <th>education_high.school</th>\n",
       "      <th>education_illiterate</th>\n",
       "      <th>education_professional.course</th>\n",
       "      <th>education_university.degree</th>\n",
       "      <th>education_unknown</th>\n",
       "    </tr>\n",
       "  </thead>\n",
       "  <tbody>\n",
       "    <tr>\n",
       "      <th>0</th>\n",
       "      <td>57</td>\n",
       "      <td>1</td>\n",
       "      <td>0</td>\n",
       "      <td>0</td>\n",
       "      <td>1</td>\n",
       "      <td>5</td>\n",
       "      <td>1</td>\n",
       "      <td>371</td>\n",
       "      <td>1</td>\n",
       "      <td>999</td>\n",
       "      <td>...</td>\n",
       "      <td>1</td>\n",
       "      <td>0</td>\n",
       "      <td>0</td>\n",
       "      <td>0</td>\n",
       "      <td>0</td>\n",
       "      <td>1</td>\n",
       "      <td>0</td>\n",
       "      <td>0</td>\n",
       "      <td>0</td>\n",
       "      <td>0</td>\n",
       "    </tr>\n",
       "    <tr>\n",
       "      <th>1</th>\n",
       "      <td>55</td>\n",
       "      <td>1</td>\n",
       "      <td>0</td>\n",
       "      <td>1</td>\n",
       "      <td>0</td>\n",
       "      <td>5</td>\n",
       "      <td>4</td>\n",
       "      <td>285</td>\n",
       "      <td>2</td>\n",
       "      <td>999</td>\n",
       "      <td>...</td>\n",
       "      <td>0</td>\n",
       "      <td>1</td>\n",
       "      <td>0</td>\n",
       "      <td>0</td>\n",
       "      <td>0</td>\n",
       "      <td>0</td>\n",
       "      <td>0</td>\n",
       "      <td>0</td>\n",
       "      <td>0</td>\n",
       "      <td>1</td>\n",
       "    </tr>\n",
       "    <tr>\n",
       "      <th>2</th>\n",
       "      <td>33</td>\n",
       "      <td>1</td>\n",
       "      <td>0</td>\n",
       "      <td>0</td>\n",
       "      <td>0</td>\n",
       "      <td>5</td>\n",
       "      <td>5</td>\n",
       "      <td>52</td>\n",
       "      <td>1</td>\n",
       "      <td>999</td>\n",
       "      <td>...</td>\n",
       "      <td>1</td>\n",
       "      <td>0</td>\n",
       "      <td>0</td>\n",
       "      <td>0</td>\n",
       "      <td>1</td>\n",
       "      <td>0</td>\n",
       "      <td>0</td>\n",
       "      <td>0</td>\n",
       "      <td>0</td>\n",
       "      <td>0</td>\n",
       "    </tr>\n",
       "    <tr>\n",
       "      <th>3</th>\n",
       "      <td>36</td>\n",
       "      <td>1</td>\n",
       "      <td>0</td>\n",
       "      <td>0</td>\n",
       "      <td>0</td>\n",
       "      <td>6</td>\n",
       "      <td>5</td>\n",
       "      <td>355</td>\n",
       "      <td>4</td>\n",
       "      <td>999</td>\n",
       "      <td>...</td>\n",
       "      <td>0</td>\n",
       "      <td>1</td>\n",
       "      <td>0</td>\n",
       "      <td>0</td>\n",
       "      <td>0</td>\n",
       "      <td>1</td>\n",
       "      <td>0</td>\n",
       "      <td>0</td>\n",
       "      <td>0</td>\n",
       "      <td>0</td>\n",
       "    </tr>\n",
       "    <tr>\n",
       "      <th>4</th>\n",
       "      <td>27</td>\n",
       "      <td>1</td>\n",
       "      <td>0</td>\n",
       "      <td>1</td>\n",
       "      <td>0</td>\n",
       "      <td>7</td>\n",
       "      <td>5</td>\n",
       "      <td>189</td>\n",
       "      <td>2</td>\n",
       "      <td>999</td>\n",
       "      <td>...</td>\n",
       "      <td>1</td>\n",
       "      <td>0</td>\n",
       "      <td>0</td>\n",
       "      <td>0</td>\n",
       "      <td>0</td>\n",
       "      <td>1</td>\n",
       "      <td>0</td>\n",
       "      <td>0</td>\n",
       "      <td>0</td>\n",
       "      <td>0</td>\n",
       "    </tr>\n",
       "  </tbody>\n",
       "</table>\n",
       "<p>5 rows × 39 columns</p>\n",
       "</div>"
      ],
      "text/plain": [
       "   age  marital  default  housing  loan  month  day_of_week  duration  \\\n",
       "0   57        1        0        0     1      5            1       371   \n",
       "1   55        1        0        1     0      5            4       285   \n",
       "2   33        1        0        0     0      5            5        52   \n",
       "3   36        1        0        0     0      6            5       355   \n",
       "4   27        1        0        1     0      7            5       189   \n",
       "\n",
       "   campaign  pdays  ...  contact_cellular  contact_telephone  \\\n",
       "0         1    999  ...                 1                  0   \n",
       "1         2    999  ...                 0                  1   \n",
       "2         1    999  ...                 1                  0   \n",
       "3         4    999  ...                 0                  1   \n",
       "4         2    999  ...                 1                  0   \n",
       "\n",
       "   education_basic.4y  education_basic.6y  education_basic.9y  \\\n",
       "0                   0                   0                   0   \n",
       "1                   0                   0                   0   \n",
       "2                   0                   0                   1   \n",
       "3                   0                   0                   0   \n",
       "4                   0                   0                   0   \n",
       "\n",
       "   education_high.school  education_illiterate  education_professional.course  \\\n",
       "0                      1                     0                              0   \n",
       "1                      0                     0                              0   \n",
       "2                      0                     0                              0   \n",
       "3                      1                     0                              0   \n",
       "4                      1                     0                              0   \n",
       "\n",
       "   education_university.degree  education_unknown  \n",
       "0                            0                  0  \n",
       "1                            0                  1  \n",
       "2                            0                  0  \n",
       "3                            0                  0  \n",
       "4                            0                  0  \n",
       "\n",
       "[5 rows x 39 columns]"
      ]
     },
     "execution_count": 6,
     "metadata": {},
     "output_type": "execute_result"
    }
   ],
   "source": [
    "from train import clean_data\n",
    "\n",
    "# Use the clean_data function to clean your data.\n",
    "x, y = clean_data(ds)\n",
    "x.head()"
   ]
  },
  {
   "cell_type": "code",
   "execution_count": 7,
   "metadata": {},
   "outputs": [],
   "source": [
    "# saving cleaned data locally\n",
    "\n",
    "import os\n",
    "import pandas as pd\n",
    "path = \"./Data\"\n",
    "try:\n",
    "    os.makedirs(path, exist_ok=True)\n",
    "except OSError:\n",
    "    print(\"Directory '%s' cannot be created\")\n"
   ]
  },
  {
   "cell_type": "code",
   "execution_count": 8,
   "metadata": {},
   "outputs": [
    {
     "name": "stdout",
     "output_type": "stream",
     "text": [
      "(32950, 39) (32950,) (32950, 40)\n",
      "   age  marital  default  housing  loan  month  day_of_week  duration  \\\n",
      "0   57        1        0        0     1      5            1       371   \n",
      "1   55        1        0        1     0      5            4       285   \n",
      "2   33        1        0        0     0      5            5        52   \n",
      "3   36        1        0        0     0      6            5       355   \n",
      "4   27        1        0        1     0      7            5       189   \n",
      "\n",
      "   campaign  pdays  ...  contact_telephone  education_basic.4y  \\\n",
      "0         1    999  ...                  0                   0   \n",
      "1         2    999  ...                  1                   0   \n",
      "2         1    999  ...                  0                   0   \n",
      "3         4    999  ...                  1                   0   \n",
      "4         2    999  ...                  0                   0   \n",
      "\n",
      "   education_basic.6y  education_basic.9y  education_high.school  \\\n",
      "0                   0                   0                      1   \n",
      "1                   0                   0                      0   \n",
      "2                   0                   1                      0   \n",
      "3                   0                   0                      1   \n",
      "4                   0                   0                      1   \n",
      "\n",
      "   education_illiterate  education_professional.course  \\\n",
      "0                     0                              0   \n",
      "1                     0                              0   \n",
      "2                     0                              0   \n",
      "3                     0                              0   \n",
      "4                     0                              0   \n",
      "\n",
      "   education_university.degree  education_unknown  y  \n",
      "0                            0                  0  0  \n",
      "1                            0                  1  0  \n",
      "2                            0                  0  0  \n",
      "3                            0                  0  0  \n",
      "4                            0                  0  0  \n",
      "\n",
      "[5 rows x 40 columns]\n"
     ]
    }
   ],
   "source": [
    "clean_df = x.copy(deep=True)\n",
    "clean_df['y'] = y\n",
    "clean_df.to_csv('./Data/clean_data.csv')\n",
    "print(x.shape, y.shape, clean_df.shape)\n",
    "print(clean_df.head())"
   ]
  },
  {
   "cell_type": "code",
   "execution_count": 9,
   "metadata": {},
   "outputs": [
    {
     "name": "stdout",
     "output_type": "stream",
     "text": [
      "(23065, 39) (23065,)\n",
      "(9885, 39) (9885,)\n",
      "(23065, 40)\n",
      "(9885, 40)\n"
     ]
    }
   ],
   "source": [
    "# split data into test and train sets\n",
    "\n",
    "from sklearn.model_selection import train_test_split\n",
    "import pandas as pd\n",
    "\n",
    "#spliting the data\n",
    "train_x, test_x, train_y, test_y = train_test_split(x, y, test_size = 0.3)\n",
    "\n",
    "# copying series y column to the train data\n",
    "train_df = train_x.copy(deep=True)\n",
    "train_df['y'] = train_y\n",
    "print(train_x.shape, train_y.shape)\n",
    "\n",
    "# joining series y column to the test data\n",
    "test_df = test_x.copy(deep=True)\n",
    "test_df['y'] = test_y\n",
    "print(test_x.shape, test_y.shape)\n",
    "\n",
    "print(train_df.shape)\n",
    "print(test_df.shape)\n",
    "\n",
    "# saving test and train data locally\n",
    "train_df.to_csv(\"./Data/train_data.csv\")\n",
    "test_df.to_csv(\"./Data/test_data.csv\")"
   ]
  },
  {
   "cell_type": "code",
   "execution_count": 10,
   "metadata": {},
   "outputs": [
    {
     "name": "stdout",
     "output_type": "stream",
     "text": [
      "Uploading an estimated of 3 files\n",
      "Uploading ./Data/test_data.csv\n",
      "Uploaded ./Data/test_data.csv, 1 files out of an estimated total of 3\n",
      "Uploading ./Data/train_data.csv\n",
      "Uploaded ./Data/train_data.csv, 2 files out of an estimated total of 3\n",
      "Uploading ./Data/clean_data.csv\n",
      "Uploaded ./Data/clean_data.csv, 3 files out of an estimated total of 3\n",
      "Uploaded 3 files\n"
     ]
    },
    {
     "data": {
      "text/plain": [
       "$AZUREML_DATAREFERENCE_014c2de65e5543898a2bcc7cd20782fb"
      ]
     },
     "execution_count": 10,
     "metadata": {},
     "output_type": "execute_result"
    }
   ],
   "source": [
    "# upload the Data directory to the datastore\n",
    "\n",
    "deafult_store = ws.get_default_datastore()\n",
    "deafult_store.upload(src_dir=\"./Data\", target_path=\"./Data\")"
   ]
  },
  {
   "cell_type": "code",
   "execution_count": 11,
   "metadata": {},
   "outputs": [],
   "source": [
    "# Convert the DataFrame to TabularDataset\n",
    "from azureml.core import Dataset\n",
    "\n",
    "clean_data = Dataset.Tabular.from_delimited_files(path=[(deafult_store, (\"./Data/clean_data.csv\"))])\n",
    "train_data = Dataset.Tabular.from_delimited_files(path=[(deafult_store, (\"./Data/train_data.csv\"))])\n",
    "test_data = Dataset.Tabular.from_delimited_files(path=[(deafult_store, (\"./Data/test_data.csv\"))])"
   ]
  },
  {
   "cell_type": "code",
   "execution_count": 12,
   "metadata": {},
   "outputs": [
    {
     "name": "stdout",
     "output_type": "stream",
     "text": [
      "AutoML config created,.\n"
     ]
    }
   ],
   "source": [
    "from azureml.train.automl import AutoMLConfig\n",
    "\n",
    "# Set parameters for AutoMLConfig\n",
    "# NOTE: DO NOT CHANGE THE experiment_timeout_minutes PARAMETER OR YOUR INSTANCE WILL TIME OUT.\n",
    "# If you wish to run the experiment longer, you will need to run this notebook in your own\n",
    "# Azure tenant, which will incur personal costs.\n",
    "automl_config = AutoMLConfig(\n",
    "    experiment_timeout_minutes=30,\n",
    "    task='classification',\n",
    "    primary_metric='accuracy',\n",
    "    training_data=train_data,\n",
    "    label_column_name=\"y\",\n",
    "    n_cross_validations=5,\n",
    "    compute_target = cpu_cluster)\n",
    "\n",
    "print(\"AutoML config created,.\")"
   ]
  },
  {
   "cell_type": "code",
   "execution_count": null,
   "metadata": {},
   "outputs": [
    {
     "name": "stdout",
     "output_type": "stream",
     "text": [
      "Running on remote.\n",
      "No run_configuration provided, running on cpu-cluster with default configuration\n",
      "Running on remote compute: cpu-cluster\n",
      "Parent Run ID: AutoML_f0e4bb01-c155-4db8-bb86-c9c65f160027\n",
      "\n",
      "Current status: FeaturesGeneration. Generating features for the dataset.\n",
      "Current status: DatasetBalancing. Performing class balancing sweeping\n",
      "Current status: DatasetCrossValidationSplit. Generating individually featurized CV splits.\n",
      "Current status: ModelSelection. Beginning model selection.\n",
      "\n",
      "****************************************************************************************************\n",
      "DATA GUARDRAILS: \n",
      "\n",
      "TYPE:         Class balancing detection\n",
      "STATUS:       ALERTED\n",
      "DESCRIPTION:  To decrease model bias, please cancel the current run and fix balancing problem.\n",
      "              Learn more about imbalanced data: https://aka.ms/AutomatedMLImbalancedData\n",
      "DETAILS:      Imbalanced data can lead to a falsely perceived positive effect of a model's accuracy because the input data has bias towards one class.\n",
      "+---------------------------------+---------------------------------+--------------------------------------+\n",
      "|Size of the smallest class       |Name/Label of the smallest class |Number of samples in the training data|\n",
      "+=================================+=================================+======================================+\n",
      "|2589                             |1                                |23065                                 |\n",
      "+---------------------------------+---------------------------------+--------------------------------------+\n",
      "\n",
      "****************************************************************************************************\n",
      "\n",
      "TYPE:         Missing feature values imputation\n",
      "STATUS:       PASSED\n",
      "DESCRIPTION:  No feature missing values were detected in the training data.\n",
      "              Learn more about missing value imputation: https://aka.ms/AutomatedMLFeaturization\n",
      "\n",
      "****************************************************************************************************\n",
      "\n",
      "TYPE:         High cardinality feature detection\n",
      "STATUS:       PASSED\n",
      "DESCRIPTION:  Your inputs were analyzed, and no high cardinality features were detected.\n",
      "              Learn more about high cardinality feature handling: https://aka.ms/AutomatedMLFeaturization\n",
      "\n",
      "****************************************************************************************************\n",
      "\n",
      "****************************************************************************************************\n",
      "ITERATION: The iteration being evaluated.\n",
      "PIPELINE: A summary description of the pipeline being evaluated.\n",
      "DURATION: Time taken for the current iteration.\n",
      "METRIC: The result of computing score on the fitted pipeline.\n",
      "BEST: The best observed score thus far.\n",
      "****************************************************************************************************\n",
      "\n",
      " ITERATION   PIPELINE                                       DURATION      METRIC      BEST\n",
      "         0   MaxAbsScaler LightGBM                          0:00:49       0.9142    0.9142\n",
      "         1   MaxAbsScaler XGBoostClassifier                 0:00:57       0.9146    0.9146\n",
      "         2   MinMaxScaler RandomForest                      0:00:45       0.8976    0.9146\n",
      "         3   MinMaxScaler RandomForest                      0:00:50       0.8878    0.9146\n",
      "         4   MinMaxScaler RandomForest                      0:00:52       0.8190    0.9146\n",
      "         5   SparseNormalizer XGBoostClassifier             0:01:01       0.9076    0.9146\n",
      "         6   MaxAbsScaler GradientBoosting                  0:00:59       0.9038    0.9146\n",
      "         7   SparseNormalizer XGBoostClassifier             0:01:07       0.8997    0.9146\n",
      "         8   MinMaxScaler LightGBM                          0:00:46       0.8912    0.9146\n",
      "         9   MinMaxScaler LogisticRegression                0:01:04       0.9092    0.9146\n",
      "        10   StandardScalerWrapper LogisticRegression       0:00:58       0.9099    0.9146\n",
      "        11   MinMaxScaler LightGBM                          0:00:48       0.8928    0.9146\n",
      "        12   StandardScalerWrapper LightGBM                 0:00:51       0.8878    0.9146\n",
      "        13   SparseNormalizer LightGBM                      0:01:09       0.8985    0.9146\n",
      "        14   MinMaxScaler LightGBM                          0:00:55       0.8878    0.9146\n",
      "        15   RobustScaler ExtremeRandomTrees                0:01:25       0.8958    0.9146\n",
      "        16   StandardScalerWrapper RandomForest             0:03:24       0.8878    0.9146\n",
      "        17   SparseNormalizer XGBoostClassifier             0:01:31       0.9096    0.9146\n",
      "        18   SparseNormalizer XGBoostClassifier             0:01:08       0.9070    0.9146\n",
      "        19   StandardScalerWrapper XGBoostClassifier        0:01:20       0.9024    0.9146\n",
      "        20    VotingEnsemble                                0:01:17       0.9154    0.9154\n",
      "        21    StackEnsemble                                 0:01:25       0.9123    0.9154\n"
     ]
    },
    {
     "data": {
      "application/vnd.jupyter.widget-view+json": {
       "model_id": "47fb30ab8de142b3b8302e0d30f6a0b1",
       "version_major": 2,
       "version_minor": 0
      },
      "text/plain": [
       "_AutoMLWidget(widget_settings={'childWidgetDisplay': 'popup', 'send_telemetry': False, 'log_level': 'INFO', 's…"
      ]
     },
     "metadata": {},
     "output_type": "display_data"
    },
    {
     "data": {
      "application/aml.mini.widget.v1": "{\"status\": \"Completed\", \"workbench_run_details_uri\": \"https://ml.azure.com/experiments/Bank_Marketing_AutoML/runs/AutoML_f0e4bb01-c155-4db8-bb86-c9c65f160027?wsid=/subscriptions/5a4ab2ba-6c51-4805-8155-58759ad589d8/resourcegroups/aml-quickstarts-134051/workspaces/quick-starts-ws-134051\", \"run_id\": \"AutoML_f0e4bb01-c155-4db8-bb86-c9c65f160027\", \"run_properties\": {\"run_id\": \"AutoML_f0e4bb01-c155-4db8-bb86-c9c65f160027\", \"created_utc\": \"2021-01-09T07:05:15.303266Z\", \"properties\": {\"num_iterations\": \"1000\", \"training_type\": \"TrainFull\", \"acquisition_function\": \"EI\", \"primary_metric\": \"accuracy\", \"train_split\": \"0\", \"acquisition_parameter\": \"0\", \"num_cross_validation\": \"5\", \"target\": \"cpu-cluster\", \"AMLSettingsJsonString\": \"{\\\"path\\\":null,\\\"name\\\":\\\"Bank_Marketing_AutoML\\\",\\\"subscription_id\\\":\\\"5a4ab2ba-6c51-4805-8155-58759ad589d8\\\",\\\"resource_group\\\":\\\"aml-quickstarts-134051\\\",\\\"workspace_name\\\":\\\"quick-starts-ws-134051\\\",\\\"region\\\":\\\"southcentralus\\\",\\\"compute_target\\\":\\\"cpu-cluster\\\",\\\"spark_service\\\":null,\\\"azure_service\\\":\\\"remote\\\",\\\"many_models\\\":false,\\\"pipeline_fetch_max_batch_size\\\":1,\\\"iterations\\\":1000,\\\"primary_metric\\\":\\\"accuracy\\\",\\\"task_type\\\":\\\"classification\\\",\\\"data_script\\\":null,\\\"validation_size\\\":0.0,\\\"n_cross_validations\\\":5,\\\"y_min\\\":null,\\\"y_max\\\":null,\\\"num_classes\\\":null,\\\"featurization\\\":\\\"auto\\\",\\\"_ignore_package_version_incompatibilities\\\":false,\\\"is_timeseries\\\":false,\\\"max_cores_per_iteration\\\":1,\\\"max_concurrent_iterations\\\":1,\\\"iteration_timeout_minutes\\\":null,\\\"mem_in_mb\\\":null,\\\"enforce_time_on_windows\\\":false,\\\"experiment_timeout_minutes\\\":30,\\\"experiment_exit_score\\\":null,\\\"whitelist_models\\\":null,\\\"blacklist_algos\\\":[\\\"TensorFlowLinearClassifier\\\",\\\"TensorFlowDNN\\\"],\\\"supported_models\\\":[\\\"ExtremeRandomTrees\\\",\\\"LinearSVM\\\",\\\"LogisticRegression\\\",\\\"TensorFlowDNN\\\",\\\"RandomForest\\\",\\\"TensorFlowLinearClassifier\\\",\\\"GradientBoosting\\\",\\\"XGBoostClassifier\\\",\\\"SVM\\\",\\\"AveragedPerceptronClassifier\\\",\\\"DecisionTree\\\",\\\"BernoulliNaiveBayes\\\",\\\"KNN\\\",\\\"SGD\\\",\\\"LightGBM\\\",\\\"MultinomialNaiveBayes\\\"],\\\"auto_blacklist\\\":true,\\\"blacklist_samples_reached\\\":false,\\\"exclude_nan_labels\\\":true,\\\"verbosity\\\":20,\\\"_debug_log\\\":\\\"azureml_automl.log\\\",\\\"show_warnings\\\":false,\\\"model_explainability\\\":true,\\\"service_url\\\":null,\\\"sdk_url\\\":null,\\\"sdk_packages\\\":null,\\\"enable_onnx_compatible_models\\\":false,\\\"enable_split_onnx_featurizer_estimator_models\\\":false,\\\"vm_type\\\":\\\"STANDARD_D2_V2\\\",\\\"telemetry_verbosity\\\":20,\\\"send_telemetry\\\":true,\\\"enable_dnn\\\":false,\\\"scenario\\\":\\\"SDK-1.13.0\\\",\\\"environment_label\\\":null,\\\"force_text_dnn\\\":false,\\\"enable_feature_sweeping\\\":true,\\\"enable_early_stopping\\\":false,\\\"early_stopping_n_iters\\\":10,\\\"metrics\\\":null,\\\"enable_ensembling\\\":true,\\\"enable_stack_ensembling\\\":true,\\\"ensemble_iterations\\\":15,\\\"enable_tf\\\":false,\\\"enable_subsampling\\\":null,\\\"subsample_seed\\\":null,\\\"enable_nimbusml\\\":false,\\\"enable_streaming\\\":false,\\\"force_streaming\\\":false,\\\"track_child_runs\\\":true,\\\"allowed_private_models\\\":[],\\\"label_column_name\\\":\\\"y\\\",\\\"weight_column_name\\\":null,\\\"cv_split_column_names\\\":null,\\\"enable_local_managed\\\":false,\\\"_local_managed_run_id\\\":null,\\\"cost_mode\\\":1,\\\"lag_length\\\":0,\\\"metric_operation\\\":\\\"maximize\\\",\\\"preprocess\\\":true}\", \"DataPrepJsonString\": \"{\\\\\\\"training_data\\\\\\\": \\\\\\\"{\\\\\\\\\\\\\\\"blocks\\\\\\\\\\\\\\\": [{\\\\\\\\\\\\\\\"id\\\\\\\\\\\\\\\": \\\\\\\\\\\\\\\"077afc71-50f5-46ff-8a7e-ece93c7dc288\\\\\\\\\\\\\\\", \\\\\\\\\\\\\\\"type\\\\\\\\\\\\\\\": \\\\\\\\\\\\\\\"Microsoft.DPrep.GetDatastoreFilesBlock\\\\\\\\\\\\\\\", \\\\\\\\\\\\\\\"arguments\\\\\\\\\\\\\\\": {\\\\\\\\\\\\\\\"datastores\\\\\\\\\\\\\\\": [{\\\\\\\\\\\\\\\"datastoreName\\\\\\\\\\\\\\\": \\\\\\\\\\\\\\\"workspaceblobstore\\\\\\\\\\\\\\\", \\\\\\\\\\\\\\\"path\\\\\\\\\\\\\\\": \\\\\\\\\\\\\\\"./Data/train_data.csv\\\\\\\\\\\\\\\", \\\\\\\\\\\\\\\"resourceGroup\\\\\\\\\\\\\\\": \\\\\\\\\\\\\\\"aml-quickstarts-134051\\\\\\\\\\\\\\\", \\\\\\\\\\\\\\\"subscription\\\\\\\\\\\\\\\": \\\\\\\\\\\\\\\"5a4ab2ba-6c51-4805-8155-58759ad589d8\\\\\\\\\\\\\\\", \\\\\\\\\\\\\\\"workspaceName\\\\\\\\\\\\\\\": \\\\\\\\\\\\\\\"quick-starts-ws-134051\\\\\\\\\\\\\\\"}]}, \\\\\\\\\\\\\\\"localData\\\\\\\\\\\\\\\": {}, \\\\\\\\\\\\\\\"isEnabled\\\\\\\\\\\\\\\": true, \\\\\\\\\\\\\\\"name\\\\\\\\\\\\\\\": null, \\\\\\\\\\\\\\\"annotation\\\\\\\\\\\\\\\": null}, {\\\\\\\\\\\\\\\"id\\\\\\\\\\\\\\\": \\\\\\\\\\\\\\\"86844b5d-cf78-4140-bf26-1af96a50be8b\\\\\\\\\\\\\\\", \\\\\\\\\\\\\\\"type\\\\\\\\\\\\\\\": \\\\\\\\\\\\\\\"Microsoft.DPrep.ParseDelimitedBlock\\\\\\\\\\\\\\\", \\\\\\\\\\\\\\\"arguments\\\\\\\\\\\\\\\": {\\\\\\\\\\\\\\\"columnHeadersMode\\\\\\\\\\\\\\\": 3, \\\\\\\\\\\\\\\"fileEncoding\\\\\\\\\\\\\\\": 0, \\\\\\\\\\\\\\\"handleQuotedLineBreaks\\\\\\\\\\\\\\\": false, \\\\\\\\\\\\\\\"preview\\\\\\\\\\\\\\\": false, \\\\\\\\\\\\\\\"separator\\\\\\\\\\\\\\\": \\\\\\\\\\\\\\\",\\\\\\\\\\\\\\\", \\\\\\\\\\\\\\\"skipRows\\\\\\\\\\\\\\\": 0, \\\\\\\\\\\\\\\"skipRowsMode\\\\\\\\\\\\\\\": 0}, \\\\\\\\\\\\\\\"localData\\\\\\\\\\\\\\\": {}, \\\\\\\\\\\\\\\"isEnabled\\\\\\\\\\\\\\\": true, \\\\\\\\\\\\\\\"name\\\\\\\\\\\\\\\": null, \\\\\\\\\\\\\\\"annotation\\\\\\\\\\\\\\\": null}, {\\\\\\\\\\\\\\\"id\\\\\\\\\\\\\\\": \\\\\\\\\\\\\\\"a56d59d2-c0a0-426f-9ecb-62e5d35780fd\\\\\\\\\\\\\\\", \\\\\\\\\\\\\\\"type\\\\\\\\\\\\\\\": \\\\\\\\\\\\\\\"Microsoft.DPrep.DropColumnsBlock\\\\\\\\\\\\\\\", \\\\\\\\\\\\\\\"arguments\\\\\\\\\\\\\\\": {\\\\\\\\\\\\\\\"columns\\\\\\\\\\\\\\\": {\\\\\\\\\\\\\\\"type\\\\\\\\\\\\\\\": 0, \\\\\\\\\\\\\\\"details\\\\\\\\\\\\\\\": {\\\\\\\\\\\\\\\"selectedColumns\\\\\\\\\\\\\\\": [\\\\\\\\\\\\\\\"Path\\\\\\\\\\\\\\\"]}}}, \\\\\\\\\\\\\\\"localData\\\\\\\\\\\\\\\": {}, \\\\\\\\\\\\\\\"isEnabled\\\\\\\\\\\\\\\": true, \\\\\\\\\\\\\\\"name\\\\\\\\\\\\\\\": null, \\\\\\\\\\\\\\\"annotation\\\\\\\\\\\\\\\": null}, {\\\\\\\\\\\\\\\"id\\\\\\\\\\\\\\\": \\\\\\\\\\\\\\\"c293bd60-5611-4aaa-bb47-6c8ab6151876\\\\\\\\\\\\\\\", \\\\\\\\\\\\\\\"type\\\\\\\\\\\\\\\": \\\\\\\\\\\\\\\"Microsoft.DPrep.SetColumnTypesBlock\\\\\\\\\\\\\\\", \\\\\\\\\\\\\\\"arguments\\\\\\\\\\\\\\\": {\\\\\\\\\\\\\\\"columnConversion\\\\\\\\\\\\\\\": [{\\\\\\\\\\\\\\\"column\\\\\\\\\\\\\\\": {\\\\\\\\\\\\\\\"type\\\\\\\\\\\\\\\": 2, \\\\\\\\\\\\\\\"details\\\\\\\\\\\\\\\": {\\\\\\\\\\\\\\\"selectedColumn\\\\\\\\\\\\\\\": \\\\\\\\\\\\\\\"Column1\\\\\\\\\\\\\\\"}}, \\\\\\\\\\\\\\\"typeProperty\\\\\\\\\\\\\\\": 2}, {\\\\\\\\\\\\\\\"column\\\\\\\\\\\\\\\": {\\\\\\\\\\\\\\\"type\\\\\\\\\\\\\\\": 2, \\\\\\\\\\\\\\\"details\\\\\\\\\\\\\\\": {\\\\\\\\\\\\\\\"selectedColumn\\\\\\\\\\\\\\\": \\\\\\\\\\\\\\\"age\\\\\\\\\\\\\\\"}}, \\\\\\\\\\\\\\\"typeProperty\\\\\\\\\\\\\\\": 2}, {\\\\\\\\\\\\\\\"column\\\\\\\\\\\\\\\": {\\\\\\\\\\\\\\\"type\\\\\\\\\\\\\\\": 2, \\\\\\\\\\\\\\\"details\\\\\\\\\\\\\\\": {\\\\\\\\\\\\\\\"selectedColumn\\\\\\\\\\\\\\\": \\\\\\\\\\\\\\\"marital\\\\\\\\\\\\\\\"}}, \\\\\\\\\\\\\\\"typeProperty\\\\\\\\\\\\\\\": 2}, {\\\\\\\\\\\\\\\"column\\\\\\\\\\\\\\\": {\\\\\\\\\\\\\\\"type\\\\\\\\\\\\\\\": 2, \\\\\\\\\\\\\\\"details\\\\\\\\\\\\\\\": {\\\\\\\\\\\\\\\"selectedColumn\\\\\\\\\\\\\\\": \\\\\\\\\\\\\\\"default\\\\\\\\\\\\\\\"}}, \\\\\\\\\\\\\\\"typeProperty\\\\\\\\\\\\\\\": 2}, {\\\\\\\\\\\\\\\"column\\\\\\\\\\\\\\\": {\\\\\\\\\\\\\\\"type\\\\\\\\\\\\\\\": 2, \\\\\\\\\\\\\\\"details\\\\\\\\\\\\\\\": {\\\\\\\\\\\\\\\"selectedColumn\\\\\\\\\\\\\\\": \\\\\\\\\\\\\\\"housing\\\\\\\\\\\\\\\"}}, \\\\\\\\\\\\\\\"typeProperty\\\\\\\\\\\\\\\": 2}, {\\\\\\\\\\\\\\\"column\\\\\\\\\\\\\\\": {\\\\\\\\\\\\\\\"type\\\\\\\\\\\\\\\": 2, \\\\\\\\\\\\\\\"details\\\\\\\\\\\\\\\": {\\\\\\\\\\\\\\\"selectedColumn\\\\\\\\\\\\\\\": \\\\\\\\\\\\\\\"loan\\\\\\\\\\\\\\\"}}, \\\\\\\\\\\\\\\"typeProperty\\\\\\\\\\\\\\\": 2}, {\\\\\\\\\\\\\\\"column\\\\\\\\\\\\\\\": {\\\\\\\\\\\\\\\"type\\\\\\\\\\\\\\\": 2, \\\\\\\\\\\\\\\"details\\\\\\\\\\\\\\\": {\\\\\\\\\\\\\\\"selectedColumn\\\\\\\\\\\\\\\": \\\\\\\\\\\\\\\"month\\\\\\\\\\\\\\\"}}, \\\\\\\\\\\\\\\"typeProperty\\\\\\\\\\\\\\\": 2}, {\\\\\\\\\\\\\\\"column\\\\\\\\\\\\\\\": {\\\\\\\\\\\\\\\"type\\\\\\\\\\\\\\\": 2, \\\\\\\\\\\\\\\"details\\\\\\\\\\\\\\\": {\\\\\\\\\\\\\\\"selectedColumn\\\\\\\\\\\\\\\": \\\\\\\\\\\\\\\"day_of_week\\\\\\\\\\\\\\\"}}, \\\\\\\\\\\\\\\"typeProperty\\\\\\\\\\\\\\\": 2}, {\\\\\\\\\\\\\\\"column\\\\\\\\\\\\\\\": {\\\\\\\\\\\\\\\"type\\\\\\\\\\\\\\\": 2, \\\\\\\\\\\\\\\"details\\\\\\\\\\\\\\\": {\\\\\\\\\\\\\\\"selectedColumn\\\\\\\\\\\\\\\": \\\\\\\\\\\\\\\"duration\\\\\\\\\\\\\\\"}}, \\\\\\\\\\\\\\\"typeProperty\\\\\\\\\\\\\\\": 2}, {\\\\\\\\\\\\\\\"column\\\\\\\\\\\\\\\": {\\\\\\\\\\\\\\\"type\\\\\\\\\\\\\\\": 2, \\\\\\\\\\\\\\\"details\\\\\\\\\\\\\\\": {\\\\\\\\\\\\\\\"selectedColumn\\\\\\\\\\\\\\\": \\\\\\\\\\\\\\\"campaign\\\\\\\\\\\\\\\"}}, \\\\\\\\\\\\\\\"typeProperty\\\\\\\\\\\\\\\": 2}, {\\\\\\\\\\\\\\\"column\\\\\\\\\\\\\\\": {\\\\\\\\\\\\\\\"type\\\\\\\\\\\\\\\": 2, \\\\\\\\\\\\\\\"details\\\\\\\\\\\\\\\": {\\\\\\\\\\\\\\\"selectedColumn\\\\\\\\\\\\\\\": \\\\\\\\\\\\\\\"pdays\\\\\\\\\\\\\\\"}}, \\\\\\\\\\\\\\\"typeProperty\\\\\\\\\\\\\\\": 2}, {\\\\\\\\\\\\\\\"column\\\\\\\\\\\\\\\": {\\\\\\\\\\\\\\\"type\\\\\\\\\\\\\\\": 2, \\\\\\\\\\\\\\\"details\\\\\\\\\\\\\\\": {\\\\\\\\\\\\\\\"selectedColumn\\\\\\\\\\\\\\\": \\\\\\\\\\\\\\\"previous\\\\\\\\\\\\\\\"}}, \\\\\\\\\\\\\\\"typeProperty\\\\\\\\\\\\\\\": 2}, {\\\\\\\\\\\\\\\"column\\\\\\\\\\\\\\\": {\\\\\\\\\\\\\\\"type\\\\\\\\\\\\\\\": 2, \\\\\\\\\\\\\\\"details\\\\\\\\\\\\\\\": {\\\\\\\\\\\\\\\"selectedColumn\\\\\\\\\\\\\\\": \\\\\\\\\\\\\\\"poutcome\\\\\\\\\\\\\\\"}}, \\\\\\\\\\\\\\\"typeProperty\\\\\\\\\\\\\\\": 2}, {\\\\\\\\\\\\\\\"column\\\\\\\\\\\\\\\": {\\\\\\\\\\\\\\\"type\\\\\\\\\\\\\\\": 2, \\\\\\\\\\\\\\\"details\\\\\\\\\\\\\\\": {\\\\\\\\\\\\\\\"selectedColumn\\\\\\\\\\\\\\\": \\\\\\\\\\\\\\\"emp.var.rate\\\\\\\\\\\\\\\"}}, \\\\\\\\\\\\\\\"typeProperty\\\\\\\\\\\\\\\": 3}, {\\\\\\\\\\\\\\\"column\\\\\\\\\\\\\\\": {\\\\\\\\\\\\\\\"type\\\\\\\\\\\\\\\": 2, \\\\\\\\\\\\\\\"details\\\\\\\\\\\\\\\": {\\\\\\\\\\\\\\\"selectedColumn\\\\\\\\\\\\\\\": \\\\\\\\\\\\\\\"cons.price.idx\\\\\\\\\\\\\\\"}}, \\\\\\\\\\\\\\\"typeProperty\\\\\\\\\\\\\\\": 3}, {\\\\\\\\\\\\\\\"column\\\\\\\\\\\\\\\": {\\\\\\\\\\\\\\\"type\\\\\\\\\\\\\\\": 2, \\\\\\\\\\\\\\\"details\\\\\\\\\\\\\\\": {\\\\\\\\\\\\\\\"selectedColumn\\\\\\\\\\\\\\\": \\\\\\\\\\\\\\\"cons.conf.idx\\\\\\\\\\\\\\\"}}, \\\\\\\\\\\\\\\"typeProperty\\\\\\\\\\\\\\\": 3}, {\\\\\\\\\\\\\\\"column\\\\\\\\\\\\\\\": {\\\\\\\\\\\\\\\"type\\\\\\\\\\\\\\\": 2, \\\\\\\\\\\\\\\"details\\\\\\\\\\\\\\\": {\\\\\\\\\\\\\\\"selectedColumn\\\\\\\\\\\\\\\": \\\\\\\\\\\\\\\"euribor3m\\\\\\\\\\\\\\\"}}, \\\\\\\\\\\\\\\"typeProperty\\\\\\\\\\\\\\\": 3}, {\\\\\\\\\\\\\\\"column\\\\\\\\\\\\\\\": {\\\\\\\\\\\\\\\"type\\\\\\\\\\\\\\\": 2, \\\\\\\\\\\\\\\"details\\\\\\\\\\\\\\\": {\\\\\\\\\\\\\\\"selectedColumn\\\\\\\\\\\\\\\": \\\\\\\\\\\\\\\"nr.employed\\\\\\\\\\\\\\\"}}, \\\\\\\\\\\\\\\"typeProperty\\\\\\\\\\\\\\\": 3}, {\\\\\\\\\\\\\\\"column\\\\\\\\\\\\\\\": {\\\\\\\\\\\\\\\"type\\\\\\\\\\\\\\\": 2, \\\\\\\\\\\\\\\"details\\\\\\\\\\\\\\\": {\\\\\\\\\\\\\\\"selectedColumn\\\\\\\\\\\\\\\": \\\\\\\\\\\\\\\"job_admin.\\\\\\\\\\\\\\\"}}, \\\\\\\\\\\\\\\"typeProperty\\\\\\\\\\\\\\\": 2}, {\\\\\\\\\\\\\\\"column\\\\\\\\\\\\\\\": {\\\\\\\\\\\\\\\"type\\\\\\\\\\\\\\\": 2, \\\\\\\\\\\\\\\"details\\\\\\\\\\\\\\\": {\\\\\\\\\\\\\\\"selectedColumn\\\\\\\\\\\\\\\": \\\\\\\\\\\\\\\"job_blue-collar\\\\\\\\\\\\\\\"}}, \\\\\\\\\\\\\\\"typeProperty\\\\\\\\\\\\\\\": 2}, {\\\\\\\\\\\\\\\"column\\\\\\\\\\\\\\\": {\\\\\\\\\\\\\\\"type\\\\\\\\\\\\\\\": 2, \\\\\\\\\\\\\\\"details\\\\\\\\\\\\\\\": {\\\\\\\\\\\\\\\"selectedColumn\\\\\\\\\\\\\\\": \\\\\\\\\\\\\\\"job_entrepreneur\\\\\\\\\\\\\\\"}}, \\\\\\\\\\\\\\\"typeProperty\\\\\\\\\\\\\\\": 2}, {\\\\\\\\\\\\\\\"column\\\\\\\\\\\\\\\": {\\\\\\\\\\\\\\\"type\\\\\\\\\\\\\\\": 2, \\\\\\\\\\\\\\\"details\\\\\\\\\\\\\\\": {\\\\\\\\\\\\\\\"selectedColumn\\\\\\\\\\\\\\\": \\\\\\\\\\\\\\\"job_housemaid\\\\\\\\\\\\\\\"}}, \\\\\\\\\\\\\\\"typeProperty\\\\\\\\\\\\\\\": 2}, {\\\\\\\\\\\\\\\"column\\\\\\\\\\\\\\\": {\\\\\\\\\\\\\\\"type\\\\\\\\\\\\\\\": 2, \\\\\\\\\\\\\\\"details\\\\\\\\\\\\\\\": {\\\\\\\\\\\\\\\"selectedColumn\\\\\\\\\\\\\\\": \\\\\\\\\\\\\\\"job_management\\\\\\\\\\\\\\\"}}, \\\\\\\\\\\\\\\"typeProperty\\\\\\\\\\\\\\\": 2}, {\\\\\\\\\\\\\\\"column\\\\\\\\\\\\\\\": {\\\\\\\\\\\\\\\"type\\\\\\\\\\\\\\\": 2, \\\\\\\\\\\\\\\"details\\\\\\\\\\\\\\\": {\\\\\\\\\\\\\\\"selectedColumn\\\\\\\\\\\\\\\": \\\\\\\\\\\\\\\"job_retired\\\\\\\\\\\\\\\"}}, \\\\\\\\\\\\\\\"typeProperty\\\\\\\\\\\\\\\": 2}, {\\\\\\\\\\\\\\\"column\\\\\\\\\\\\\\\": {\\\\\\\\\\\\\\\"type\\\\\\\\\\\\\\\": 2, \\\\\\\\\\\\\\\"details\\\\\\\\\\\\\\\": {\\\\\\\\\\\\\\\"selectedColumn\\\\\\\\\\\\\\\": \\\\\\\\\\\\\\\"job_self-employed\\\\\\\\\\\\\\\"}}, \\\\\\\\\\\\\\\"typeProperty\\\\\\\\\\\\\\\": 2}, {\\\\\\\\\\\\\\\"column\\\\\\\\\\\\\\\": {\\\\\\\\\\\\\\\"type\\\\\\\\\\\\\\\": 2, \\\\\\\\\\\\\\\"details\\\\\\\\\\\\\\\": {\\\\\\\\\\\\\\\"selectedColumn\\\\\\\\\\\\\\\": \\\\\\\\\\\\\\\"job_services\\\\\\\\\\\\\\\"}}, \\\\\\\\\\\\\\\"typeProperty\\\\\\\\\\\\\\\": 2}, {\\\\\\\\\\\\\\\"column\\\\\\\\\\\\\\\": {\\\\\\\\\\\\\\\"type\\\\\\\\\\\\\\\": 2, \\\\\\\\\\\\\\\"details\\\\\\\\\\\\\\\": {\\\\\\\\\\\\\\\"selectedColumn\\\\\\\\\\\\\\\": \\\\\\\\\\\\\\\"job_student\\\\\\\\\\\\\\\"}}, \\\\\\\\\\\\\\\"typeProperty\\\\\\\\\\\\\\\": 2}, {\\\\\\\\\\\\\\\"column\\\\\\\\\\\\\\\": {\\\\\\\\\\\\\\\"type\\\\\\\\\\\\\\\": 2, \\\\\\\\\\\\\\\"details\\\\\\\\\\\\\\\": {\\\\\\\\\\\\\\\"selectedColumn\\\\\\\\\\\\\\\": \\\\\\\\\\\\\\\"job_technician\\\\\\\\\\\\\\\"}}, \\\\\\\\\\\\\\\"typeProperty\\\\\\\\\\\\\\\": 2}, {\\\\\\\\\\\\\\\"column\\\\\\\\\\\\\\\": {\\\\\\\\\\\\\\\"type\\\\\\\\\\\\\\\": 2, \\\\\\\\\\\\\\\"details\\\\\\\\\\\\\\\": {\\\\\\\\\\\\\\\"selectedColumn\\\\\\\\\\\\\\\": \\\\\\\\\\\\\\\"job_unemployed\\\\\\\\\\\\\\\"}}, \\\\\\\\\\\\\\\"typeProperty\\\\\\\\\\\\\\\": 2}, {\\\\\\\\\\\\\\\"column\\\\\\\\\\\\\\\": {\\\\\\\\\\\\\\\"type\\\\\\\\\\\\\\\": 2, \\\\\\\\\\\\\\\"details\\\\\\\\\\\\\\\": {\\\\\\\\\\\\\\\"selectedColumn\\\\\\\\\\\\\\\": \\\\\\\\\\\\\\\"job_unknown\\\\\\\\\\\\\\\"}}, \\\\\\\\\\\\\\\"typeProperty\\\\\\\\\\\\\\\": 2}, {\\\\\\\\\\\\\\\"column\\\\\\\\\\\\\\\": {\\\\\\\\\\\\\\\"type\\\\\\\\\\\\\\\": 2, \\\\\\\\\\\\\\\"details\\\\\\\\\\\\\\\": {\\\\\\\\\\\\\\\"selectedColumn\\\\\\\\\\\\\\\": \\\\\\\\\\\\\\\"contact_cellular\\\\\\\\\\\\\\\"}}, \\\\\\\\\\\\\\\"typeProperty\\\\\\\\\\\\\\\": 2}, {\\\\\\\\\\\\\\\"column\\\\\\\\\\\\\\\": {\\\\\\\\\\\\\\\"type\\\\\\\\\\\\\\\": 2, \\\\\\\\\\\\\\\"details\\\\\\\\\\\\\\\": {\\\\\\\\\\\\\\\"selectedColumn\\\\\\\\\\\\\\\": \\\\\\\\\\\\\\\"contact_telephone\\\\\\\\\\\\\\\"}}, \\\\\\\\\\\\\\\"typeProperty\\\\\\\\\\\\\\\": 2}, {\\\\\\\\\\\\\\\"column\\\\\\\\\\\\\\\": {\\\\\\\\\\\\\\\"type\\\\\\\\\\\\\\\": 2, \\\\\\\\\\\\\\\"details\\\\\\\\\\\\\\\": {\\\\\\\\\\\\\\\"selectedColumn\\\\\\\\\\\\\\\": \\\\\\\\\\\\\\\"education_basic.4y\\\\\\\\\\\\\\\"}}, \\\\\\\\\\\\\\\"typeProperty\\\\\\\\\\\\\\\": 2}, {\\\\\\\\\\\\\\\"column\\\\\\\\\\\\\\\": {\\\\\\\\\\\\\\\"type\\\\\\\\\\\\\\\": 2, \\\\\\\\\\\\\\\"details\\\\\\\\\\\\\\\": {\\\\\\\\\\\\\\\"selectedColumn\\\\\\\\\\\\\\\": \\\\\\\\\\\\\\\"education_basic.6y\\\\\\\\\\\\\\\"}}, \\\\\\\\\\\\\\\"typeProperty\\\\\\\\\\\\\\\": 2}, {\\\\\\\\\\\\\\\"column\\\\\\\\\\\\\\\": {\\\\\\\\\\\\\\\"type\\\\\\\\\\\\\\\": 2, \\\\\\\\\\\\\\\"details\\\\\\\\\\\\\\\": {\\\\\\\\\\\\\\\"selectedColumn\\\\\\\\\\\\\\\": \\\\\\\\\\\\\\\"education_basic.9y\\\\\\\\\\\\\\\"}}, \\\\\\\\\\\\\\\"typeProperty\\\\\\\\\\\\\\\": 2}, {\\\\\\\\\\\\\\\"column\\\\\\\\\\\\\\\": {\\\\\\\\\\\\\\\"type\\\\\\\\\\\\\\\": 2, \\\\\\\\\\\\\\\"details\\\\\\\\\\\\\\\": {\\\\\\\\\\\\\\\"selectedColumn\\\\\\\\\\\\\\\": \\\\\\\\\\\\\\\"education_high.school\\\\\\\\\\\\\\\"}}, \\\\\\\\\\\\\\\"typeProperty\\\\\\\\\\\\\\\": 2}, {\\\\\\\\\\\\\\\"column\\\\\\\\\\\\\\\": {\\\\\\\\\\\\\\\"type\\\\\\\\\\\\\\\": 2, \\\\\\\\\\\\\\\"details\\\\\\\\\\\\\\\": {\\\\\\\\\\\\\\\"selectedColumn\\\\\\\\\\\\\\\": \\\\\\\\\\\\\\\"education_illiterate\\\\\\\\\\\\\\\"}}, \\\\\\\\\\\\\\\"typeProperty\\\\\\\\\\\\\\\": 2}, {\\\\\\\\\\\\\\\"column\\\\\\\\\\\\\\\": {\\\\\\\\\\\\\\\"type\\\\\\\\\\\\\\\": 2, \\\\\\\\\\\\\\\"details\\\\\\\\\\\\\\\": {\\\\\\\\\\\\\\\"selectedColumn\\\\\\\\\\\\\\\": \\\\\\\\\\\\\\\"education_professional.course\\\\\\\\\\\\\\\"}}, \\\\\\\\\\\\\\\"typeProperty\\\\\\\\\\\\\\\": 2}, {\\\\\\\\\\\\\\\"column\\\\\\\\\\\\\\\": {\\\\\\\\\\\\\\\"type\\\\\\\\\\\\\\\": 2, \\\\\\\\\\\\\\\"details\\\\\\\\\\\\\\\": {\\\\\\\\\\\\\\\"selectedColumn\\\\\\\\\\\\\\\": \\\\\\\\\\\\\\\"education_university.degree\\\\\\\\\\\\\\\"}}, \\\\\\\\\\\\\\\"typeProperty\\\\\\\\\\\\\\\": 2}, {\\\\\\\\\\\\\\\"column\\\\\\\\\\\\\\\": {\\\\\\\\\\\\\\\"type\\\\\\\\\\\\\\\": 2, \\\\\\\\\\\\\\\"details\\\\\\\\\\\\\\\": {\\\\\\\\\\\\\\\"selectedColumn\\\\\\\\\\\\\\\": \\\\\\\\\\\\\\\"education_unknown\\\\\\\\\\\\\\\"}}, \\\\\\\\\\\\\\\"typeProperty\\\\\\\\\\\\\\\": 2}, {\\\\\\\\\\\\\\\"column\\\\\\\\\\\\\\\": {\\\\\\\\\\\\\\\"type\\\\\\\\\\\\\\\": 2, \\\\\\\\\\\\\\\"details\\\\\\\\\\\\\\\": {\\\\\\\\\\\\\\\"selectedColumn\\\\\\\\\\\\\\\": \\\\\\\\\\\\\\\"y\\\\\\\\\\\\\\\"}}, \\\\\\\\\\\\\\\"typeProperty\\\\\\\\\\\\\\\": 2}]}, \\\\\\\\\\\\\\\"localData\\\\\\\\\\\\\\\": {}, \\\\\\\\\\\\\\\"isEnabled\\\\\\\\\\\\\\\": true, \\\\\\\\\\\\\\\"name\\\\\\\\\\\\\\\": null, \\\\\\\\\\\\\\\"annotation\\\\\\\\\\\\\\\": null}], \\\\\\\\\\\\\\\"inspectors\\\\\\\\\\\\\\\": [], \\\\\\\\\\\\\\\"meta\\\\\\\\\\\\\\\": {\\\\\\\\\\\\\\\"savedDatasetId\\\\\\\\\\\\\\\": \\\\\\\\\\\\\\\"0a03da12-4564-4a40-89b1-88c99c935da3\\\\\\\\\\\\\\\", \\\\\\\\\\\\\\\"datasetType\\\\\\\\\\\\\\\": \\\\\\\\\\\\\\\"tabular\\\\\\\\\\\\\\\", \\\\\\\\\\\\\\\"subscriptionId\\\\\\\\\\\\\\\": \\\\\\\\\\\\\\\"5a4ab2ba-6c51-4805-8155-58759ad589d8\\\\\\\\\\\\\\\", \\\\\\\\\\\\\\\"workspaceId\\\\\\\\\\\\\\\": \\\\\\\\\\\\\\\"09e47b25-a998-45d2-9bf8-ead65db959ad\\\\\\\\\\\\\\\", \\\\\\\\\\\\\\\"workspaceLocation\\\\\\\\\\\\\\\": \\\\\\\\\\\\\\\"southcentralus\\\\\\\\\\\\\\\"}}\\\\\\\", \\\\\\\"activities\\\\\\\": 0}\", \"EnableSubsampling\": null, \"runTemplate\": \"AutoML\", \"azureml.runsource\": \"automl\", \"display_task_type\": \"classification\", \"dependencies_versions\": \"{\\\"azureml-widgets\\\": \\\"1.19.0\\\", \\\"azureml-train\\\": \\\"1.19.0\\\", \\\"azureml-train-restclients-hyperdrive\\\": \\\"1.19.0\\\", \\\"azureml-train-core\\\": \\\"1.19.0\\\", \\\"azureml-train-automl\\\": \\\"1.19.0\\\", \\\"azureml-train-automl-runtime\\\": \\\"1.19.0\\\", \\\"azureml-train-automl-client\\\": \\\"1.19.0\\\", \\\"azureml-tensorboard\\\": \\\"1.19.0\\\", \\\"azureml-telemetry\\\": \\\"1.19.0\\\", \\\"azureml-sdk\\\": \\\"1.19.0\\\", \\\"azureml-samples\\\": \\\"0+unknown\\\", \\\"azureml-pipeline\\\": \\\"1.19.0\\\", \\\"azureml-pipeline-steps\\\": \\\"1.19.0\\\", \\\"azureml-pipeline-core\\\": \\\"1.19.0\\\", \\\"azureml-opendatasets\\\": \\\"1.19.0\\\", \\\"azureml-model-management-sdk\\\": \\\"1.0.1b6.post1\\\", \\\"azureml-mlflow\\\": \\\"1.19.0\\\", \\\"azureml-interpret\\\": \\\"1.19.0\\\", \\\"azureml-explain-model\\\": \\\"1.19.0\\\", \\\"azureml-defaults\\\": \\\"1.19.0\\\", \\\"azureml-dataset-runtime\\\": \\\"1.19.0\\\", \\\"azureml-dataprep\\\": \\\"2.6.1\\\", \\\"azureml-dataprep-rslex\\\": \\\"1.4.0\\\", \\\"azureml-dataprep-native\\\": \\\"26.0.0\\\", \\\"azureml-datadrift\\\": \\\"1.19.0\\\", \\\"azureml-core\\\": \\\"1.19.0\\\", \\\"azureml-contrib-services\\\": \\\"1.19.0\\\", \\\"azureml-contrib-server\\\": \\\"1.19.0\\\", \\\"azureml-contrib-reinforcementlearning\\\": \\\"1.19.0\\\", \\\"azureml-contrib-pipeline-steps\\\": \\\"1.19.0\\\", \\\"azureml-contrib-notebook\\\": \\\"1.19.0\\\", \\\"azureml-contrib-interpret\\\": \\\"1.19.0\\\", \\\"azureml-contrib-gbdt\\\": \\\"1.19.0\\\", \\\"azureml-contrib-fairness\\\": \\\"1.19.0\\\", \\\"azureml-contrib-dataset\\\": \\\"1.19.0\\\", \\\"azureml-cli-common\\\": \\\"1.19.0\\\", \\\"azureml-automl-runtime\\\": \\\"1.19.0\\\", \\\"azureml-automl-core\\\": \\\"1.19.0\\\", \\\"azureml-accel-models\\\": \\\"1.19.0\\\"}\", \"_aml_system_scenario_identification\": \"Remote.Parent\", \"ClientType\": \"SDK\", \"environment_cpu_name\": \"AzureML-AutoML\", \"environment_cpu_label\": \"prod\", \"environment_gpu_name\": \"AzureML-AutoML-GPU\", \"environment_gpu_label\": \"prod\", \"root_attribution\": \"automl\", \"attribution\": \"AutoML\", \"Orchestrator\": \"AutoML\", \"CancelUri\": \"https://southcentralus.experiments.azureml.net/jasmine/v1.0/subscriptions/5a4ab2ba-6c51-4805-8155-58759ad589d8/resourceGroups/aml-quickstarts-134051/providers/Microsoft.MachineLearningServices/workspaces/quick-starts-ws-134051/experimentids/90954681-690e-43bb-a249-0e878dc7f830/cancel/AutoML_f0e4bb01-c155-4db8-bb86-c9c65f160027\", \"ClientSdkVersion\": \"1.19.0\", \"snapshotId\": \"00000000-0000-0000-0000-000000000000\", \"SetupRunId\": \"AutoML_f0e4bb01-c155-4db8-bb86-c9c65f160027_setup\", \"SetupRunContainerId\": \"dcid.AutoML_f0e4bb01-c155-4db8-bb86-c9c65f160027_setup\", \"FeaturizationRunJsonPath\": \"featurizer_container.json\", \"FeaturizationRunId\": \"AutoML_f0e4bb01-c155-4db8-bb86-c9c65f160027_featurize\", \"ProblemInfoJsonString\": \"{\\\"dataset_num_categorical\\\": 0, \\\"is_sparse\\\": false, \\\"subsampling\\\": false, \\\"dataset_classes\\\": 2, \\\"dataset_features\\\": 40, \\\"dataset_samples\\\": 23065, \\\"single_frequency_class_detected\\\": false}\", \"ModelExplainRunId\": \"AutoML_f0e4bb01-c155-4db8-bb86-c9c65f160027_ModelExplain\", \"azureml.git.repository_uri\": \"https://github.com/bharati-21/AZMLND_Optimizing_a_Pipeline_in_Azure.git\", \"mlflow.source.git.repoURL\": \"https://github.com/bharati-21/AZMLND_Optimizing_a_Pipeline_in_Azure.git\", \"azureml.git.branch\": \"master\", \"mlflow.source.git.branch\": \"master\", \"azureml.git.commit\": \"1121571ab0f36622c23fbc843f5ce6246eb1d96e\", \"mlflow.source.git.commit\": \"1121571ab0f36622c23fbc843f5ce6246eb1d96e\", \"azureml.git.dirty\": \"True\"}, \"tags\": {\"model_explain_run\": \"best_run\", \"_aml_system_azureml.automlComponent\": \"AutoML\", \"pipeline_id\": \"\", \"score\": \"\", \"predicted_cost\": \"\", \"fit_time\": \"\", \"training_percent\": \"\", \"iteration\": \"\", \"run_preprocessor\": \"\", \"run_algorithm\": \"\", \"automl_best_child_run_id\": \"AutoML_f0e4bb01-c155-4db8-bb86-c9c65f160027_20\"}, \"end_time_utc\": \"2021-01-09T07:47:16.480067Z\", \"status\": \"Completed\", \"log_files\": {}, \"log_groups\": [], \"run_duration\": \"0:42:01\"}, \"child_runs\": [{\"run_id\": \"AutoML_f0e4bb01-c155-4db8-bb86-c9c65f160027_0\", \"run_number\": 6, \"metric\": null, \"status\": \"Completed\", \"run_type\": \"azureml.scriptrun\", \"training_percent\": \"100\", \"start_time\": \"2021-01-09T07:12:54.936481Z\", \"end_time\": \"2021-01-09T07:13:43.676845Z\", \"created_time\": \"2021-01-09T07:12:40.742102Z\", \"created_time_dt\": \"2021-01-09T07:12:40.742102Z\", \"duration\": \"0:01:02\", \"iteration\": \"0\", \"goal\": \"accuracy_max\", \"run_name\": \"MaxAbsScaler, LightGBM\", \"run_properties\": \"copy=True\", \"primary_metric\": 0.91424236, \"best_metric\": 0.91424236}, {\"run_id\": \"AutoML_f0e4bb01-c155-4db8-bb86-c9c65f160027_1\", \"run_number\": 7, \"metric\": null, \"status\": \"Completed\", \"run_type\": \"azureml.scriptrun\", \"training_percent\": \"100\", \"start_time\": \"2021-01-09T07:14:12.887029Z\", \"end_time\": \"2021-01-09T07:15:10.027886Z\", \"created_time\": \"2021-01-09T07:13:45.141363Z\", \"created_time_dt\": \"2021-01-09T07:13:45.141363Z\", \"duration\": \"0:01:24\", \"iteration\": \"1\", \"goal\": \"accuracy_max\", \"run_name\": \"MaxAbsScaler, XGBoostClassifier\", \"run_properties\": \"copy=True\", \"primary_metric\": 0.9145892, \"best_metric\": 0.9145892}, {\"run_id\": \"AutoML_f0e4bb01-c155-4db8-bb86-c9c65f160027_2\", \"run_number\": 8, \"metric\": null, \"status\": \"Completed\", \"run_type\": \"azureml.scriptrun\", \"training_percent\": \"100\", \"start_time\": \"2021-01-09T07:15:23.539856Z\", \"end_time\": \"2021-01-09T07:16:08.891128Z\", \"created_time\": \"2021-01-09T07:15:11.792564Z\", \"created_time_dt\": \"2021-01-09T07:15:11.792564Z\", \"duration\": \"0:00:57\", \"iteration\": \"2\", \"goal\": \"accuracy_max\", \"run_name\": \"MinMaxScaler, RandomForest\", \"run_properties\": \"copy=True, feature_range=(0, 1\", \"primary_metric\": 0.89759376, \"best_metric\": 0.9145892}, {\"run_id\": \"AutoML_f0e4bb01-c155-4db8-bb86-c9c65f160027_3\", \"run_number\": 9, \"metric\": null, \"status\": \"Completed\", \"run_type\": \"azureml.scriptrun\", \"training_percent\": \"100\", \"start_time\": \"2021-01-09T07:16:25.736829Z\", \"end_time\": \"2021-01-09T07:17:15.536826Z\", \"created_time\": \"2021-01-09T07:16:11.795048Z\", \"created_time_dt\": \"2021-01-09T07:16:11.795048Z\", \"duration\": \"0:01:03\", \"iteration\": \"3\", \"goal\": \"accuracy_max\", \"run_name\": \"MinMaxScaler, RandomForest\", \"run_properties\": \"copy=True, feature_range=(0, 1\", \"primary_metric\": 0.88775201, \"best_metric\": 0.9145892}, {\"run_id\": \"AutoML_f0e4bb01-c155-4db8-bb86-c9c65f160027_4\", \"run_number\": 10, \"metric\": null, \"status\": \"Completed\", \"run_type\": \"azureml.scriptrun\", \"training_percent\": \"100\", \"start_time\": \"2021-01-09T07:17:31.061209Z\", \"end_time\": \"2021-01-09T07:18:22.90657Z\", \"created_time\": \"2021-01-09T07:17:18.835717Z\", \"created_time_dt\": \"2021-01-09T07:17:18.835717Z\", \"duration\": \"0:01:04\", \"iteration\": \"4\", \"goal\": \"accuracy_max\", \"run_name\": \"MinMaxScaler, RandomForest\", \"run_properties\": \"copy=True, feature_range=(0, 1\", \"primary_metric\": 0.81898981, \"best_metric\": 0.9145892}, {\"run_id\": \"AutoML_f0e4bb01-c155-4db8-bb86-c9c65f160027_5\", \"run_number\": 11, \"metric\": null, \"status\": \"Completed\", \"run_type\": \"azureml.scriptrun\", \"training_percent\": \"100\", \"start_time\": \"2021-01-09T07:18:37.950735Z\", \"end_time\": \"2021-01-09T07:19:38.682877Z\", \"created_time\": \"2021-01-09T07:18:24.693784Z\", \"created_time_dt\": \"2021-01-09T07:18:24.693784Z\", \"duration\": \"0:01:13\", \"iteration\": \"5\", \"goal\": \"accuracy_max\", \"run_name\": \"SparseNormalizer, XGBoostClassifier\", \"run_properties\": \"<azureml.automl.runtime.shared.model_wrappers.SparseNormalizer object at 0x7f57dd3711d0\", \"primary_metric\": 0.90756558, \"best_metric\": 0.9145892}, {\"run_id\": \"AutoML_f0e4bb01-c155-4db8-bb86-c9c65f160027_6\", \"run_number\": 12, \"metric\": null, \"status\": \"Completed\", \"run_type\": \"azureml.scriptrun\", \"training_percent\": \"100\", \"start_time\": \"2021-01-09T07:19:54.15426Z\", \"end_time\": \"2021-01-09T07:20:52.769652Z\", \"created_time\": \"2021-01-09T07:19:41.622995Z\", \"created_time_dt\": \"2021-01-09T07:19:41.622995Z\", \"duration\": \"0:01:11\", \"iteration\": \"6\", \"goal\": \"accuracy_max\", \"run_name\": \"MaxAbsScaler, GradientBoosting\", \"run_properties\": \"copy=True\", \"primary_metric\": 0.90379363, \"best_metric\": 0.9145892}, {\"run_id\": \"AutoML_f0e4bb01-c155-4db8-bb86-c9c65f160027_7\", \"run_number\": 13, \"metric\": null, \"status\": \"Completed\", \"run_type\": \"azureml.scriptrun\", \"training_percent\": \"100\", \"start_time\": \"2021-01-09T07:21:09.001866Z\", \"end_time\": \"2021-01-09T07:22:16.278035Z\", \"created_time\": \"2021-01-09T07:20:55.554158Z\", \"created_time_dt\": \"2021-01-09T07:20:55.554158Z\", \"duration\": \"0:01:20\", \"iteration\": \"7\", \"goal\": \"accuracy_max\", \"run_name\": \"SparseNormalizer, XGBoostClassifier\", \"run_properties\": \"<azureml.automl.runtime.shared.model_wrappers.SparseNormalizer object at 0x7fc0a213af98\", \"primary_metric\": 0.89967483, \"best_metric\": 0.9145892}, {\"run_id\": \"AutoML_f0e4bb01-c155-4db8-bb86-c9c65f160027_8\", \"run_number\": 14, \"metric\": null, \"status\": \"Completed\", \"run_type\": \"azureml.scriptrun\", \"training_percent\": \"100\", \"start_time\": \"2021-01-09T07:22:32.891894Z\", \"end_time\": \"2021-01-09T07:23:18.596729Z\", \"created_time\": \"2021-01-09T07:22:19.199108Z\", \"created_time_dt\": \"2021-01-09T07:22:19.199108Z\", \"duration\": \"0:00:59\", \"iteration\": \"8\", \"goal\": \"accuracy_max\", \"run_name\": \"MinMaxScaler, LightGBM\", \"run_properties\": \"copy=True, feature_range=(0, 1\", \"primary_metric\": 0.89122046, \"best_metric\": 0.9145892}, {\"run_id\": \"AutoML_f0e4bb01-c155-4db8-bb86-c9c65f160027_9\", \"run_number\": 15, \"metric\": null, \"status\": \"Completed\", \"run_type\": \"azureml.scriptrun\", \"training_percent\": \"100\", \"start_time\": \"2021-01-09T07:23:34.024295Z\", \"end_time\": \"2021-01-09T07:24:37.900107Z\", \"created_time\": \"2021-01-09T07:23:21.00719Z\", \"created_time_dt\": \"2021-01-09T07:23:21.00719Z\", \"duration\": \"0:01:16\", \"iteration\": \"9\", \"goal\": \"accuracy_max\", \"run_name\": \"MinMaxScaler, LogisticRegression\", \"run_properties\": \"copy=True, feature_range=(0, 1\", \"primary_metric\": 0.90916974, \"best_metric\": 0.9145892}, {\"run_id\": \"AutoML_f0e4bb01-c155-4db8-bb86-c9c65f160027_10\", \"run_number\": 16, \"metric\": null, \"status\": \"Completed\", \"run_type\": \"azureml.scriptrun\", \"training_percent\": \"100\", \"start_time\": \"2021-01-09T07:24:55.388462Z\", \"end_time\": \"2021-01-09T07:25:53.452965Z\", \"created_time\": \"2021-01-09T07:24:41.836313Z\", \"created_time_dt\": \"2021-01-09T07:24:41.836313Z\", \"duration\": \"0:01:11\", \"iteration\": \"10\", \"goal\": \"accuracy_max\", \"run_name\": \"StandardScalerWrapper, LogisticRegression\", \"run_properties\": \"<azureml.automl.runtime.shared.model_wrappers.StandardScalerWrapper object at 0x7f27e03f6a90\", \"primary_metric\": 0.90990679, \"best_metric\": 0.9145892}, {\"run_id\": \"AutoML_f0e4bb01-c155-4db8-bb86-c9c65f160027_11\", \"run_number\": 17, \"metric\": null, \"status\": \"Completed\", \"run_type\": \"azureml.scriptrun\", \"training_percent\": \"100\", \"start_time\": \"2021-01-09T07:26:08.74839Z\", \"end_time\": \"2021-01-09T07:26:57.238726Z\", \"created_time\": \"2021-01-09T07:25:55.767747Z\", \"created_time_dt\": \"2021-01-09T07:25:55.767747Z\", \"duration\": \"0:01:01\", \"iteration\": \"11\", \"goal\": \"accuracy_max\", \"run_name\": \"MinMaxScaler, LightGBM\", \"run_properties\": \"copy=True, feature_range=(0, 1\", \"primary_metric\": 0.89278127, \"best_metric\": 0.9145892}, {\"run_id\": \"AutoML_f0e4bb01-c155-4db8-bb86-c9c65f160027_12\", \"run_number\": 18, \"metric\": null, \"status\": \"Completed\", \"run_type\": \"azureml.scriptrun\", \"training_percent\": \"100\", \"start_time\": \"2021-01-09T07:27:11.266642Z\", \"end_time\": \"2021-01-09T07:28:01.78387Z\", \"created_time\": \"2021-01-09T07:26:59.424463Z\", \"created_time_dt\": \"2021-01-09T07:26:59.424463Z\", \"duration\": \"0:01:02\", \"iteration\": \"12\", \"goal\": \"accuracy_max\", \"run_name\": \"StandardScalerWrapper, LightGBM\", \"run_properties\": \"<azureml.automl.runtime.shared.model_wrappers.StandardScalerWrapper object at 0x7fcaa0951ac8\", \"primary_metric\": 0.88775201, \"best_metric\": 0.9145892}, {\"run_id\": \"AutoML_f0e4bb01-c155-4db8-bb86-c9c65f160027_13\", \"run_number\": 19, \"metric\": null, \"status\": \"Completed\", \"run_type\": \"azureml.scriptrun\", \"training_percent\": \"100\", \"start_time\": \"2021-01-09T07:28:16.432176Z\", \"end_time\": \"2021-01-09T07:29:25.198463Z\", \"created_time\": \"2021-01-09T07:28:05.656856Z\", \"created_time_dt\": \"2021-01-09T07:28:05.656856Z\", \"duration\": \"0:01:19\", \"iteration\": \"13\", \"goal\": \"accuracy_max\", \"run_name\": \"SparseNormalizer, LightGBM\", \"run_properties\": \"<azureml.automl.runtime.shared.model_wrappers.SparseNormalizer object at 0x7f947e8bbe10\", \"primary_metric\": 0.89850423, \"best_metric\": 0.9145892}, {\"run_id\": \"AutoML_f0e4bb01-c155-4db8-bb86-c9c65f160027_14\", \"run_number\": 20, \"metric\": null, \"status\": \"Completed\", \"run_type\": \"azureml.scriptrun\", \"training_percent\": \"100\", \"start_time\": \"2021-01-09T07:29:40.303505Z\", \"end_time\": \"2021-01-09T07:30:35.06055Z\", \"created_time\": \"2021-01-09T07:29:27.014636Z\", \"created_time_dt\": \"2021-01-09T07:29:27.014636Z\", \"duration\": \"0:01:08\", \"iteration\": \"14\", \"goal\": \"accuracy_max\", \"run_name\": \"MinMaxScaler, LightGBM\", \"run_properties\": \"copy=True, feature_range=(0, 1\", \"primary_metric\": 0.88775201, \"best_metric\": 0.9145892}, {\"run_id\": \"AutoML_f0e4bb01-c155-4db8-bb86-c9c65f160027_15\", \"run_number\": 21, \"metric\": null, \"status\": \"Completed\", \"run_type\": \"azureml.scriptrun\", \"training_percent\": \"100\", \"start_time\": \"2021-01-09T07:30:47.19926Z\", \"end_time\": \"2021-01-09T07:32:12.686601Z\", \"created_time\": \"2021-01-09T07:30:36.820806Z\", \"created_time_dt\": \"2021-01-09T07:30:36.820806Z\", \"duration\": \"0:01:35\", \"iteration\": \"15\", \"goal\": \"accuracy_max\", \"run_name\": \"RobustScaler, ExtremeRandomTrees\", \"run_properties\": \"copy=True, quantile_range=[25, 75], with_centering=True,\\n             with_scaling=False\", \"primary_metric\": 0.89577282, \"best_metric\": 0.9145892}, {\"run_id\": \"AutoML_f0e4bb01-c155-4db8-bb86-c9c65f160027_16\", \"run_number\": 22, \"metric\": null, \"status\": \"Completed\", \"run_type\": \"azureml.scriptrun\", \"training_percent\": \"100\", \"start_time\": \"2021-01-09T07:35:39.849953Z\", \"end_time\": \"2021-01-09T07:39:04.156079Z\", \"created_time\": \"2021-01-09T07:32:15.324842Z\", \"created_time_dt\": \"2021-01-09T07:32:15.324842Z\", \"duration\": \"0:06:48\", \"iteration\": \"16\", \"goal\": \"accuracy_max\", \"run_name\": \"StandardScalerWrapper, RandomForest\", \"run_properties\": \"<azureml.automl.runtime.shared.model_wrappers.StandardScalerWrapper object at 0x7f7c8544f898\", \"primary_metric\": 0.88775201, \"best_metric\": 0.9145892}, {\"run_id\": \"AutoML_f0e4bb01-c155-4db8-bb86-c9c65f160027_17\", \"run_number\": 23, \"metric\": null, \"status\": \"Completed\", \"run_type\": \"azureml.scriptrun\", \"training_percent\": \"100\", \"start_time\": \"2021-01-09T07:39:18.620581Z\", \"end_time\": \"2021-01-09T07:40:50.106495Z\", \"created_time\": \"2021-01-09T07:39:06.453766Z\", \"created_time_dt\": \"2021-01-09T07:39:06.453766Z\", \"duration\": \"0:01:43\", \"iteration\": \"17\", \"goal\": \"accuracy_max\", \"run_name\": \"SparseNormalizer, XGBoostClassifier\", \"run_properties\": \"<azureml.automl.runtime.shared.model_wrappers.SparseNormalizer object at 0x7f023da200f0\", \"primary_metric\": 0.9096033, \"best_metric\": 0.9145892}, {\"run_id\": \"AutoML_f0e4bb01-c155-4db8-bb86-c9c65f160027_18\", \"run_number\": 24, \"metric\": null, \"status\": \"Completed\", \"run_type\": \"azureml.scriptrun\", \"training_percent\": \"100\", \"start_time\": \"2021-01-09T07:41:11.325306Z\", \"end_time\": \"2021-01-09T07:42:19.407709Z\", \"created_time\": \"2021-01-09T07:40:56.067416Z\", \"created_time_dt\": \"2021-01-09T07:40:56.067416Z\", \"duration\": \"0:01:23\", \"iteration\": \"18\", \"goal\": \"accuracy_max\", \"run_name\": \"SparseNormalizer, XGBoostClassifier\", \"run_properties\": \"<azureml.automl.runtime.shared.model_wrappers.SparseNormalizer object at 0x7f262d3a1ef0\", \"primary_metric\": 0.90700195, \"best_metric\": 0.9145892}, {\"run_id\": \"AutoML_f0e4bb01-c155-4db8-bb86-c9c65f160027_19\", \"run_number\": 25, \"metric\": null, \"status\": \"Completed\", \"run_type\": \"azureml.scriptrun\", \"training_percent\": \"100\", \"start_time\": \"2021-01-09T07:42:34.132636Z\", \"end_time\": \"2021-01-09T07:43:54.455259Z\", \"created_time\": \"2021-01-09T07:42:21.343346Z\", \"created_time_dt\": \"2021-01-09T07:42:21.343346Z\", \"duration\": \"0:01:33\", \"iteration\": \"19\", \"goal\": \"accuracy_max\", \"run_name\": \"StandardScalerWrapper, XGBoostClassifier\", \"run_properties\": \"<azureml.automl.runtime.shared.model_wrappers.StandardScalerWrapper object at 0x7f300431ff60\", \"primary_metric\": 0.90236289, \"best_metric\": 0.9145892}, {\"run_id\": \"AutoML_f0e4bb01-c155-4db8-bb86-c9c65f160027_20\", \"run_number\": 26, \"metric\": null, \"status\": \"Completed\", \"run_type\": \"azureml.scriptrun\", \"training_percent\": \"100\", \"start_time\": \"2021-01-09T07:44:11.126641Z\", \"end_time\": \"2021-01-09T07:45:28.352712Z\", \"created_time\": \"2021-01-09T07:43:57.620025Z\", \"created_time_dt\": \"2021-01-09T07:43:57.620025Z\", \"duration\": \"0:01:30\", \"iteration\": \"20\", \"goal\": \"accuracy_max\", \"run_name\": \"VotingEnsemble\", \"run_properties\": \"classification_labels=None,\\n                              estimators=[('1',\\n                                           Pipeline(memory=None,\\n                                                    steps=[('maxabsscaler',\\n                                                            MaxAbsScaler(copy=True\", \"primary_metric\": 0.91541296, \"best_metric\": 0.91541296}, {\"run_id\": \"AutoML_f0e4bb01-c155-4db8-bb86-c9c65f160027_21\", \"run_number\": 27, \"metric\": null, \"status\": \"Completed\", \"run_type\": \"azureml.scriptrun\", \"training_percent\": \"100\", \"start_time\": \"2021-01-09T07:45:39.4607Z\", \"end_time\": \"2021-01-09T07:47:04.715394Z\", \"created_time\": \"2021-01-09T07:45:29.275875Z\", \"created_time_dt\": \"2021-01-09T07:45:29.275875Z\", \"duration\": \"0:01:35\", \"iteration\": \"21\", \"goal\": \"accuracy_max\", \"run_name\": \"StackEnsemble\", \"run_properties\": \"base_learners=[('1',\\n                                        Pipeline(memory=None,\\n                                                 steps=[('maxabsscaler',\\n                                                         MaxAbsScaler(copy=True\", \"primary_metric\": 0.91233471, \"best_metric\": 0.91541296}], \"children_metrics\": {\"categories\": [0], \"series\": {\"precision_score_micro\": [{\"categories\": [\"0\", \"1\", \"2\", \"3\", \"4\", \"5\", \"6\", \"7\", \"8\", \"9\", \"10\", \"11\", \"12\", \"13\", \"14\", \"15\", \"16\", \"17\", \"18\", \"19\", \"20\", \"21\"], \"mode\": \"markers\", \"name\": \"precision_score_micro\", \"stepped\": false, \"type\": \"scatter\", \"data\": [0.9142423585519186, 0.9145892044222848, 0.8975937567743333, 0.8877520052026882, 0.818989811402558, 0.9075655755473662, 0.903793626707132, 0.8996748319965315, 0.8912204639063516, 0.9091697376978105, 0.909906785172339, 0.8927812703230001, 0.8877520052026882, 0.8985042271840452, 0.8877520052026882, 0.8957728159549101, 0.8877520052026882, 0.9096032950357685, 0.9070019510080207, 0.9023628874918707, 0.9154129633644048, 0.9123347062649035]}, {\"categories\": [\"0\", \"1\", \"2\", \"3\", \"4\", \"5\", \"6\", \"7\", \"8\", \"9\", \"10\", \"11\", \"12\", \"13\", \"14\", \"15\", \"16\", \"17\", \"18\", \"19\", \"20\", \"21\"], \"mode\": \"lines\", \"name\": \"precision_score_micro_max\", \"stepped\": true, \"type\": \"scatter\", \"data\": [0.9142423585519186, 0.9145892044222848, 0.9145892044222848, 0.9145892044222848, 0.9145892044222848, 0.9145892044222848, 0.9145892044222848, 0.9145892044222848, 0.9145892044222848, 0.9145892044222848, 0.9145892044222848, 0.9145892044222848, 0.9145892044222848, 0.9145892044222848, 0.9145892044222848, 0.9145892044222848, 0.9145892044222848, 0.9145892044222848, 0.9145892044222848, 0.9145892044222848, 0.9154129633644048, 0.9154129633644048]}], \"f1_score_micro\": [{\"categories\": [\"0\", \"1\", \"2\", \"3\", \"4\", \"5\", \"6\", \"7\", \"8\", \"9\", \"10\", \"11\", \"12\", \"13\", \"14\", \"15\", \"16\", \"17\", \"18\", \"19\", \"20\", \"21\"], \"mode\": \"markers\", \"name\": \"f1_score_micro\", \"stepped\": false, \"type\": \"scatter\", \"data\": [0.9142423585519186, 0.9145892044222848, 0.8975937567743333, 0.8877520052026882, 0.818989811402558, 0.9075655755473662, 0.903793626707132, 0.8996748319965315, 0.8912204639063516, 0.9091697376978105, 0.909906785172339, 0.8927812703230001, 0.8877520052026882, 0.8985042271840452, 0.8877520052026882, 0.8957728159549101, 0.8877520052026882, 0.9096032950357685, 0.9070019510080207, 0.9023628874918707, 0.9154129633644048, 0.9123347062649035]}, {\"categories\": [\"0\", \"1\", \"2\", \"3\", \"4\", \"5\", \"6\", \"7\", \"8\", \"9\", \"10\", \"11\", \"12\", \"13\", \"14\", \"15\", \"16\", \"17\", \"18\", \"19\", \"20\", \"21\"], \"mode\": \"lines\", \"name\": \"f1_score_micro_max\", \"stepped\": true, \"type\": \"scatter\", \"data\": [0.9142423585519186, 0.9145892044222848, 0.9145892044222848, 0.9145892044222848, 0.9145892044222848, 0.9145892044222848, 0.9145892044222848, 0.9145892044222848, 0.9145892044222848, 0.9145892044222848, 0.9145892044222848, 0.9145892044222848, 0.9145892044222848, 0.9145892044222848, 0.9145892044222848, 0.9145892044222848, 0.9145892044222848, 0.9145892044222848, 0.9145892044222848, 0.9145892044222848, 0.9154129633644048, 0.9154129633644048]}], \"f1_score_macro\": [{\"categories\": [\"0\", \"1\", \"2\", \"3\", \"4\", \"5\", \"6\", \"7\", \"8\", \"9\", \"10\", \"11\", \"12\", \"13\", \"14\", \"15\", \"16\", \"17\", \"18\", \"19\", \"20\", \"21\"], \"mode\": \"markers\", \"name\": \"f1_score_macro\", \"stepped\": false, \"type\": \"scatter\", \"data\": [0.7675382237592044, 0.7605284422600688, 0.5705687231258232, 0.4702689200648086, 0.7094910775188982, 0.7335089037574065, 0.6648529246420409, 0.6107834208404772, 0.5183281293642261, 0.7170650104942177, 0.7234663062777233, 0.539470995931165, 0.4702689200648086, 0.628131037767141, 0.4702689200648086, 0.5634185497496278, 0.4702689200648086, 0.7416669116505281, 0.7255233626912473, 0.6384799090975892, 0.7630554452318508, 0.7516518221053434]}, {\"categories\": [\"0\", \"1\", \"2\", \"3\", \"4\", \"5\", \"6\", \"7\", \"8\", \"9\", \"10\", \"11\", \"12\", \"13\", \"14\", \"15\", \"16\", \"17\", \"18\", \"19\", \"20\", \"21\"], \"mode\": \"lines\", \"name\": \"f1_score_macro_max\", \"stepped\": true, \"type\": \"scatter\", \"data\": [0.7675382237592044, 0.7675382237592044, 0.7675382237592044, 0.7675382237592044, 0.7675382237592044, 0.7675382237592044, 0.7675382237592044, 0.7675382237592044, 0.7675382237592044, 0.7675382237592044, 0.7675382237592044, 0.7675382237592044, 0.7675382237592044, 0.7675382237592044, 0.7675382237592044, 0.7675382237592044, 0.7675382237592044, 0.7675382237592044, 0.7675382237592044, 0.7675382237592044, 0.7675382237592044, 0.7675382237592044]}], \"AUC_micro\": [{\"categories\": [\"0\", \"1\", \"2\", \"3\", \"4\", \"5\", \"6\", \"7\", \"8\", \"9\", \"10\", \"11\", \"12\", \"13\", \"14\", \"15\", \"16\", \"17\", \"18\", \"19\", \"20\", \"21\"], \"mode\": \"markers\", \"name\": \"AUC_micro\", \"stepped\": false, \"type\": \"scatter\", \"data\": [0.9802910642498045, 0.9801195304328726, 0.9717421650582768, 0.9665669397069113, 0.9154346083362087, 0.9764130005358611, 0.9742406320294172, 0.9622539229631675, 0.9726354360331637, 0.9725933773059285, 0.9723007331517554, 0.9725951536410005, 0.9712011253505619, 0.9680782813008918, 0.9710646295079612, 0.9693887466541579, 0.9708301156840566, 0.9770509256937892, 0.9759892694323892, 0.9739802062700962, 0.9802558664993027, 0.9796774485662885]}, {\"categories\": [\"0\", \"1\", \"2\", \"3\", \"4\", \"5\", \"6\", \"7\", \"8\", \"9\", \"10\", \"11\", \"12\", \"13\", \"14\", \"15\", \"16\", \"17\", \"18\", \"19\", \"20\", \"21\"], \"mode\": \"lines\", \"name\": \"AUC_micro_max\", \"stepped\": true, \"type\": \"scatter\", \"data\": [0.9802910642498045, 0.9802910642498045, 0.9802910642498045, 0.9802910642498045, 0.9802910642498045, 0.9802910642498045, 0.9802910642498045, 0.9802910642498045, 0.9802910642498045, 0.9802910642498045, 0.9802910642498045, 0.9802910642498045, 0.9802910642498045, 0.9802910642498045, 0.9802910642498045, 0.9802910642498045, 0.9802910642498045, 0.9802910642498045, 0.9802910642498045, 0.9802910642498045, 0.9802910642498045, 0.9802910642498045]}], \"recall_score_micro\": [{\"categories\": [\"0\", \"1\", \"2\", \"3\", \"4\", \"5\", \"6\", \"7\", \"8\", \"9\", \"10\", \"11\", \"12\", \"13\", \"14\", \"15\", \"16\", \"17\", \"18\", \"19\", \"20\", \"21\"], \"mode\": \"markers\", \"name\": \"recall_score_micro\", \"stepped\": false, \"type\": \"scatter\", \"data\": [0.9142423585519186, 0.9145892044222848, 0.8975937567743333, 0.8877520052026882, 0.818989811402558, 0.9075655755473662, 0.903793626707132, 0.8996748319965315, 0.8912204639063516, 0.9091697376978105, 0.909906785172339, 0.8927812703230001, 0.8877520052026882, 0.8985042271840452, 0.8877520052026882, 0.8957728159549101, 0.8877520052026882, 0.9096032950357685, 0.9070019510080207, 0.9023628874918707, 0.9154129633644048, 0.9123347062649035]}, {\"categories\": [\"0\", \"1\", \"2\", \"3\", \"4\", \"5\", \"6\", \"7\", \"8\", \"9\", \"10\", \"11\", \"12\", \"13\", \"14\", \"15\", \"16\", \"17\", \"18\", \"19\", \"20\", \"21\"], \"mode\": \"lines\", \"name\": \"recall_score_micro_max\", \"stepped\": true, \"type\": \"scatter\", \"data\": [0.9142423585519186, 0.9145892044222848, 0.9145892044222848, 0.9145892044222848, 0.9145892044222848, 0.9145892044222848, 0.9145892044222848, 0.9145892044222848, 0.9145892044222848, 0.9145892044222848, 0.9145892044222848, 0.9145892044222848, 0.9145892044222848, 0.9145892044222848, 0.9145892044222848, 0.9145892044222848, 0.9145892044222848, 0.9145892044222848, 0.9145892044222848, 0.9145892044222848, 0.9154129633644048, 0.9154129633644048]}], \"recall_score_weighted\": [{\"categories\": [\"0\", \"1\", \"2\", \"3\", \"4\", \"5\", \"6\", \"7\", \"8\", \"9\", \"10\", \"11\", \"12\", \"13\", \"14\", \"15\", \"16\", \"17\", \"18\", \"19\", \"20\", \"21\"], \"mode\": \"markers\", \"name\": \"recall_score_weighted\", \"stepped\": false, \"type\": \"scatter\", \"data\": [0.9142423585519186, 0.9145892044222848, 0.8975937567743333, 0.8877520052026882, 0.818989811402558, 0.9075655755473662, 0.903793626707132, 0.8996748319965315, 0.8912204639063516, 0.9091697376978105, 0.909906785172339, 0.8927812703230001, 0.8877520052026882, 0.8985042271840452, 0.8877520052026882, 0.8957728159549101, 0.8877520052026882, 0.9096032950357685, 0.9070019510080207, 0.9023628874918707, 0.9154129633644048, 0.9123347062649035]}, {\"categories\": [\"0\", \"1\", \"2\", \"3\", \"4\", \"5\", \"6\", \"7\", \"8\", \"9\", \"10\", \"11\", \"12\", \"13\", \"14\", \"15\", \"16\", \"17\", \"18\", \"19\", \"20\", \"21\"], \"mode\": \"lines\", \"name\": \"recall_score_weighted_max\", \"stepped\": true, \"type\": \"scatter\", \"data\": [0.9142423585519186, 0.9145892044222848, 0.9145892044222848, 0.9145892044222848, 0.9145892044222848, 0.9145892044222848, 0.9145892044222848, 0.9145892044222848, 0.9145892044222848, 0.9145892044222848, 0.9145892044222848, 0.9145892044222848, 0.9145892044222848, 0.9145892044222848, 0.9145892044222848, 0.9145892044222848, 0.9145892044222848, 0.9145892044222848, 0.9145892044222848, 0.9145892044222848, 0.9154129633644048, 0.9154129633644048]}], \"log_loss\": [{\"categories\": [\"0\", \"1\", \"2\", \"3\", \"4\", \"5\", \"6\", \"7\", \"8\", \"9\", \"10\", \"11\", \"12\", \"13\", \"14\", \"15\", \"16\", \"17\", \"18\", \"19\", \"20\", \"21\"], \"mode\": \"markers\", \"name\": \"log_loss\", \"stepped\": false, \"type\": \"scatter\", \"data\": [0.17706442931664754, 0.1791386683783659, 0.21689353931512914, 0.2492684909894404, 0.3926704291038837, 0.21681585659065256, 0.20640305229363748, 0.3673770941867242, 0.23834437355325422, 0.21787523382506277, 0.218215756665669, 0.22758935665986005, 0.2595660688972006, 0.235121666994702, 0.2635531954259511, 0.2414348624966311, 0.21092684075882878, 0.19408135768177773, 0.21908390833384397, 0.24402288139129272, 0.18936172955406744, 0.18934594682400743]}, {\"categories\": [\"0\", \"1\", \"2\", \"3\", \"4\", \"5\", \"6\", \"7\", \"8\", \"9\", \"10\", \"11\", \"12\", \"13\", \"14\", \"15\", \"16\", \"17\", \"18\", \"19\", \"20\", \"21\"], \"mode\": \"lines\", \"name\": \"log_loss_min\", \"stepped\": true, \"type\": \"scatter\", \"data\": [0.17706442931664754, 0.17706442931664754, 0.17706442931664754, 0.17706442931664754, 0.17706442931664754, 0.17706442931664754, 0.17706442931664754, 0.17706442931664754, 0.17706442931664754, 0.17706442931664754, 0.17706442931664754, 0.17706442931664754, 0.17706442931664754, 0.17706442931664754, 0.17706442931664754, 0.17706442931664754, 0.17706442931664754, 0.17706442931664754, 0.17706442931664754, 0.17706442931664754, 0.17706442931664754, 0.17706442931664754]}], \"AUC_weighted\": [{\"categories\": [\"0\", \"1\", \"2\", \"3\", \"4\", \"5\", \"6\", \"7\", \"8\", \"9\", \"10\", \"11\", \"12\", \"13\", \"14\", \"15\", \"16\", \"17\", \"18\", \"19\", \"20\", \"21\"], \"mode\": \"markers\", \"name\": \"AUC_weighted\", \"stepped\": false, \"type\": \"scatter\", \"data\": [0.9465955499217878, 0.9456437170914471, 0.9201571261850319, 0.8955445981740351, 0.9225623604806744, 0.9327934461336967, 0.9269361357382809, 0.8720111797582405, 0.9251694696206979, 0.9239607530909449, 0.9239223622408481, 0.9242074427195537, 0.9187953320030902, 0.898789037457868, 0.9181028323254686, 0.9088157998506243, 0.9169099079855296, 0.9348185968444159, 0.9299619132277865, 0.927783454332262, 0.9460958693060657, 0.9442510282390902]}, {\"categories\": [\"0\", \"1\", \"2\", \"3\", \"4\", \"5\", \"6\", \"7\", \"8\", \"9\", \"10\", \"11\", \"12\", \"13\", \"14\", \"15\", \"16\", \"17\", \"18\", \"19\", \"20\", \"21\"], \"mode\": \"lines\", \"name\": \"AUC_weighted_max\", \"stepped\": true, \"type\": \"scatter\", \"data\": [0.9465955499217878, 0.9465955499217878, 0.9465955499217878, 0.9465955499217878, 0.9465955499217878, 0.9465955499217878, 0.9465955499217878, 0.9465955499217878, 0.9465955499217878, 0.9465955499217878, 0.9465955499217878, 0.9465955499217878, 0.9465955499217878, 0.9465955499217878, 0.9465955499217878, 0.9465955499217878, 0.9465955499217878, 0.9465955499217878, 0.9465955499217878, 0.9465955499217878, 0.9465955499217878, 0.9465955499217878]}], \"average_precision_score_micro\": [{\"categories\": [\"0\", \"1\", \"2\", \"3\", \"4\", \"5\", \"6\", \"7\", \"8\", \"9\", \"10\", \"11\", \"12\", \"13\", \"14\", \"15\", \"16\", \"17\", \"18\", \"19\", \"20\", \"21\"], \"mode\": \"markers\", \"name\": \"average_precision_score_micro\", \"stepped\": false, \"type\": \"scatter\", \"data\": [0.9811197633067614, 0.9809618067142278, 0.972683671311434, 0.9678143260952765, 0.9170018867434893, 0.9772225929725478, 0.9752402570696452, 0.9586927623306082, 0.9737898596678504, 0.96945834444382, 0.9685479611623646, 0.9737648250512951, 0.9718423402157267, 0.9690782031721952, 0.9720860605614859, 0.9707115429206186, 0.9711873138127217, 0.9780263970448007, 0.9763414802555854, 0.9738087129010232, 0.9809578757422284, 0.9803055439918726]}, {\"categories\": [\"0\", \"1\", \"2\", \"3\", \"4\", \"5\", \"6\", \"7\", \"8\", \"9\", \"10\", \"11\", \"12\", \"13\", \"14\", \"15\", \"16\", \"17\", \"18\", \"19\", \"20\", \"21\"], \"mode\": \"lines\", \"name\": \"average_precision_score_micro_max\", \"stepped\": true, \"type\": \"scatter\", \"data\": [0.9811197633067614, 0.9811197633067614, 0.9811197633067614, 0.9811197633067614, 0.9811197633067614, 0.9811197633067614, 0.9811197633067614, 0.9811197633067614, 0.9811197633067614, 0.9811197633067614, 0.9811197633067614, 0.9811197633067614, 0.9811197633067614, 0.9811197633067614, 0.9811197633067614, 0.9811197633067614, 0.9811197633067614, 0.9811197633067614, 0.9811197633067614, 0.9811197633067614, 0.9811197633067614, 0.9811197633067614]}], \"average_precision_score_macro\": [{\"categories\": [\"0\", \"1\", \"2\", \"3\", \"4\", \"5\", \"6\", \"7\", \"8\", \"9\", \"10\", \"11\", \"12\", \"13\", \"14\", \"15\", \"16\", \"17\", \"18\", \"19\", \"20\", \"21\"], \"mode\": \"markers\", \"name\": \"average_precision_score_macro\", \"stepped\": false, \"type\": \"scatter\", \"data\": [0.8188050430449426, 0.8217028662967637, 0.7755306176183903, 0.7265582629635551, 0.7857992235028565, 0.7960095225131816, 0.7824062713151887, 0.7277044420607452, 0.7775916317903666, 0.7862465832991373, 0.7857159776548063, 0.7760505075749871, 0.7638546733712299, 0.7516268477453968, 0.7677038150357044, 0.7604583397519863, 0.746106532252998, 0.8005822112723597, 0.7989818811646661, 0.7928709879042912, 0.8226557717107363, 0.8196826579489424]}, {\"categories\": [\"0\", \"1\", \"2\", \"3\", \"4\", \"5\", \"6\", \"7\", \"8\", \"9\", \"10\", \"11\", \"12\", \"13\", \"14\", \"15\", \"16\", \"17\", \"18\", \"19\", \"20\", \"21\"], \"mode\": \"lines\", \"name\": \"average_precision_score_macro_max\", \"stepped\": true, \"type\": \"scatter\", \"data\": [0.8188050430449426, 0.8217028662967637, 0.8217028662967637, 0.8217028662967637, 0.8217028662967637, 0.8217028662967637, 0.8217028662967637, 0.8217028662967637, 0.8217028662967637, 0.8217028662967637, 0.8217028662967637, 0.8217028662967637, 0.8217028662967637, 0.8217028662967637, 0.8217028662967637, 0.8217028662967637, 0.8217028662967637, 0.8217028662967637, 0.8217028662967637, 0.8217028662967637, 0.8226557717107363, 0.8226557717107363]}], \"weighted_accuracy\": [{\"categories\": [\"0\", \"1\", \"2\", \"3\", \"4\", \"5\", \"6\", \"7\", \"8\", \"9\", \"10\", \"11\", \"12\", \"13\", \"14\", \"15\", \"16\", \"17\", \"18\", \"19\", \"20\", \"21\"], \"mode\": \"markers\", \"name\": \"weighted_accuracy\", \"stepped\": false, \"type\": \"scatter\", \"data\": [0.9556002048090548, 0.9595087540944895, 0.982868148039181, 0.9842584642181367, 0.8087529743964831, 0.9580637563328424, 0.9732344957200019, 0.9789618448727342, 0.9826035190862636, 0.9666862122306503, 0.9657792740575477, 0.9816438745577244, 0.9842584642181367, 0.9740042713722211, 0.9842584642181367, 0.9816894387243504, 0.9842584642181367, 0.9584302009579139, 0.9601657555664065, 0.9771946944793914, 0.9599592493976008, 0.9591546026681181]}, {\"categories\": [\"0\", \"1\", \"2\", \"3\", \"4\", \"5\", \"6\", \"7\", \"8\", \"9\", \"10\", \"11\", \"12\", \"13\", \"14\", \"15\", \"16\", \"17\", \"18\", \"19\", \"20\", \"21\"], \"mode\": \"lines\", \"name\": \"weighted_accuracy_max\", \"stepped\": true, \"type\": \"scatter\", \"data\": [0.9556002048090548, 0.9595087540944895, 0.982868148039181, 0.9842584642181367, 0.9842584642181367, 0.9842584642181367, 0.9842584642181367, 0.9842584642181367, 0.9842584642181367, 0.9842584642181367, 0.9842584642181367, 0.9842584642181367, 0.9842584642181367, 0.9842584642181367, 0.9842584642181367, 0.9842584642181367, 0.9842584642181367, 0.9842584642181367, 0.9842584642181367, 0.9842584642181367, 0.9842584642181367, 0.9842584642181367]}], \"f1_score_weighted\": [{\"categories\": [\"0\", \"1\", \"2\", \"3\", \"4\", \"5\", \"6\", \"7\", \"8\", \"9\", \"10\", \"11\", \"12\", \"13\", \"14\", \"15\", \"16\", \"17\", \"18\", \"19\", \"20\", \"21\"], \"mode\": \"markers\", \"name\": \"f1_score_weighted\", \"stepped\": false, \"type\": \"scatter\", \"data\": [0.9107550811101028, 0.9094771283842522, 0.8611904994085651, 0.834966170275759, 0.8477916915991411, 0.9005277661624737, 0.8842732786426518, 0.8708288929770385, 0.8469926789175293, 0.8978602726584869, 0.8995394455978609, 0.8522667596168931, 0.834966170275759, 0.8740029103211127, 0.834966170275759, 0.8588075680933829, 0.834966170275759, 0.9031809530361656, 0.8985939294870047, 0.8779866665653566, 0.9103894387852807, 0.9065754802412329]}, {\"categories\": [\"0\", \"1\", \"2\", \"3\", \"4\", \"5\", \"6\", \"7\", \"8\", \"9\", \"10\", \"11\", \"12\", \"13\", \"14\", \"15\", \"16\", \"17\", \"18\", \"19\", \"20\", \"21\"], \"mode\": \"lines\", \"name\": \"f1_score_weighted_max\", \"stepped\": true, \"type\": \"scatter\", \"data\": [0.9107550811101028, 0.9107550811101028, 0.9107550811101028, 0.9107550811101028, 0.9107550811101028, 0.9107550811101028, 0.9107550811101028, 0.9107550811101028, 0.9107550811101028, 0.9107550811101028, 0.9107550811101028, 0.9107550811101028, 0.9107550811101028, 0.9107550811101028, 0.9107550811101028, 0.9107550811101028, 0.9107550811101028, 0.9107550811101028, 0.9107550811101028, 0.9107550811101028, 0.9107550811101028, 0.9107550811101028]}], \"balanced_accuracy\": [{\"categories\": [\"0\", \"1\", \"2\", \"3\", \"4\", \"5\", \"6\", \"7\", \"8\", \"9\", \"10\", \"11\", \"12\", \"13\", \"14\", \"15\", \"16\", \"17\", \"18\", \"19\", \"20\", \"21\"], \"mode\": \"markers\", \"name\": \"balanced_accuracy\", \"stepped\": false, \"type\": \"scatter\", \"data\": [0.7480141954303607, 0.7340753997453143, 0.5549352330097347, 0.5, 0.8600857189915843, 0.7046681056104888, 0.6249311876714885, 0.5811188817382327, 0.5240535243831872, 0.678071322742098, 0.6854457879803306, 0.5357883653218611, 0.5, 0.5952376784643165, 0.5, 0.5506131798764518, 0.5, 0.7134268255929829, 0.693418864836007, 0.6017964668822489, 0.7364756668339738, 0.7240997861084377]}, {\"categories\": [\"0\", \"1\", \"2\", \"3\", \"4\", \"5\", \"6\", \"7\", \"8\", \"9\", \"10\", \"11\", \"12\", \"13\", \"14\", \"15\", \"16\", \"17\", \"18\", \"19\", \"20\", \"21\"], \"mode\": \"lines\", \"name\": \"balanced_accuracy_max\", \"stepped\": true, \"type\": \"scatter\", \"data\": [0.7480141954303607, 0.7480141954303607, 0.7480141954303607, 0.7480141954303607, 0.8600857189915843, 0.8600857189915843, 0.8600857189915843, 0.8600857189915843, 0.8600857189915843, 0.8600857189915843, 0.8600857189915843, 0.8600857189915843, 0.8600857189915843, 0.8600857189915843, 0.8600857189915843, 0.8600857189915843, 0.8600857189915843, 0.8600857189915843, 0.8600857189915843, 0.8600857189915843, 0.8600857189915843, 0.8600857189915843]}], \"recall_score_macro\": [{\"categories\": [\"0\", \"1\", \"2\", \"3\", \"4\", \"5\", \"6\", \"7\", \"8\", \"9\", \"10\", \"11\", \"12\", \"13\", \"14\", \"15\", \"16\", \"17\", \"18\", \"19\", \"20\", \"21\"], \"mode\": \"markers\", \"name\": \"recall_score_macro\", \"stepped\": false, \"type\": \"scatter\", \"data\": [0.7480141954303607, 0.7340753997453143, 0.5549352330097347, 0.5, 0.8600857189915843, 0.7046681056104888, 0.6249311876714885, 0.5811188817382327, 0.5240535243831872, 0.678071322742098, 0.6854457879803306, 0.5357883653218611, 0.5, 0.5952376784643165, 0.5, 0.5506131798764518, 0.5, 0.7134268255929829, 0.693418864836007, 0.6017964668822489, 0.7364756668339738, 0.7240997861084377]}, {\"categories\": [\"0\", \"1\", \"2\", \"3\", \"4\", \"5\", \"6\", \"7\", \"8\", \"9\", \"10\", \"11\", \"12\", \"13\", \"14\", \"15\", \"16\", \"17\", \"18\", \"19\", \"20\", \"21\"], \"mode\": \"lines\", \"name\": \"recall_score_macro_max\", \"stepped\": true, \"type\": \"scatter\", \"data\": [0.7480141954303607, 0.7480141954303607, 0.7480141954303607, 0.7480141954303607, 0.8600857189915843, 0.8600857189915843, 0.8600857189915843, 0.8600857189915843, 0.8600857189915843, 0.8600857189915843, 0.8600857189915843, 0.8600857189915843, 0.8600857189915843, 0.8600857189915843, 0.8600857189915843, 0.8600857189915843, 0.8600857189915843, 0.8600857189915843, 0.8600857189915843, 0.8600857189915843, 0.8600857189915843, 0.8600857189915843]}], \"average_precision_score_weighted\": [{\"categories\": [\"0\", \"1\", \"2\", \"3\", \"4\", \"5\", \"6\", \"7\", \"8\", \"9\", \"10\", \"11\", \"12\", \"13\", \"14\", \"15\", \"16\", \"17\", \"18\", \"19\", \"20\", \"21\"], \"mode\": \"markers\", \"name\": \"average_precision_score_weighted\", \"stepped\": false, \"type\": \"scatter\", \"data\": [0.9539351462033846, 0.9544605028691315, 0.9410286267195742, 0.9273715465315211, 0.9437367923951742, 0.9471186258076998, 0.9434411183832344, 0.9209881057180848, 0.9422367156422862, 0.9435201054928971, 0.9434138829343167, 0.9417936587644252, 0.9381099061791778, 0.9331671944195973, 0.9390186729756277, 0.9366710146133842, 0.9340103519941086, 0.9485310582077077, 0.9469958419238911, 0.9449879922240532, 0.9545997988260477, 0.9536382500477935]}, {\"categories\": [\"0\", \"1\", \"2\", \"3\", \"4\", \"5\", \"6\", \"7\", \"8\", \"9\", \"10\", \"11\", \"12\", \"13\", \"14\", \"15\", \"16\", \"17\", \"18\", \"19\", \"20\", \"21\"], \"mode\": \"lines\", \"name\": \"average_precision_score_weighted_max\", \"stepped\": true, \"type\": \"scatter\", \"data\": [0.9539351462033846, 0.9544605028691315, 0.9544605028691315, 0.9544605028691315, 0.9544605028691315, 0.9544605028691315, 0.9544605028691315, 0.9544605028691315, 0.9544605028691315, 0.9544605028691315, 0.9544605028691315, 0.9544605028691315, 0.9544605028691315, 0.9544605028691315, 0.9544605028691315, 0.9544605028691315, 0.9544605028691315, 0.9544605028691315, 0.9544605028691315, 0.9544605028691315, 0.9545997988260477, 0.9545997988260477]}], \"accuracy\": [{\"categories\": [\"0\", \"1\", \"2\", \"3\", \"4\", \"5\", \"6\", \"7\", \"8\", \"9\", \"10\", \"11\", \"12\", \"13\", \"14\", \"15\", \"16\", \"17\", \"18\", \"19\", \"20\", \"21\"], \"mode\": \"markers\", \"name\": \"accuracy\", \"stepped\": false, \"type\": \"scatter\", \"data\": [0.9142423585519186, 0.9145892044222848, 0.8975937567743333, 0.8877520052026882, 0.818989811402558, 0.9075655755473662, 0.903793626707132, 0.8996748319965315, 0.8912204639063516, 0.9091697376978105, 0.909906785172339, 0.8927812703230001, 0.8877520052026882, 0.8985042271840452, 0.8877520052026882, 0.8957728159549101, 0.8877520052026882, 0.9096032950357685, 0.9070019510080207, 0.9023628874918707, 0.9154129633644048, 0.9123347062649035]}, {\"categories\": [\"0\", \"1\", \"2\", \"3\", \"4\", \"5\", \"6\", \"7\", \"8\", \"9\", \"10\", \"11\", \"12\", \"13\", \"14\", \"15\", \"16\", \"17\", \"18\", \"19\", \"20\", \"21\"], \"mode\": \"lines\", \"name\": \"accuracy_max\", \"stepped\": true, \"type\": \"scatter\", \"data\": [0.9142423585519186, 0.9145892044222848, 0.9145892044222848, 0.9145892044222848, 0.9145892044222848, 0.9145892044222848, 0.9145892044222848, 0.9145892044222848, 0.9145892044222848, 0.9145892044222848, 0.9145892044222848, 0.9145892044222848, 0.9145892044222848, 0.9145892044222848, 0.9145892044222848, 0.9145892044222848, 0.9145892044222848, 0.9145892044222848, 0.9145892044222848, 0.9145892044222848, 0.9154129633644048, 0.9154129633644048]}], \"AUC_macro\": [{\"categories\": [\"0\", \"1\", \"2\", \"3\", \"4\", \"5\", \"6\", \"7\", \"8\", \"9\", \"10\", \"11\", \"12\", \"13\", \"14\", \"15\", \"16\", \"17\", \"18\", \"19\", \"20\", \"21\"], \"mode\": \"markers\", \"name\": \"AUC_macro\", \"stepped\": false, \"type\": \"scatter\", \"data\": [0.9465955499217878, 0.9456437170914471, 0.9201571261850316, 0.8955445981740349, 0.9225623604806744, 0.9327934280994634, 0.9269361357382809, 0.8720111797582405, 0.9251694696206979, 0.9239607530909449, 0.9239223622408481, 0.9242074427195537, 0.9187953320030902, 0.898789037457868, 0.9181028323254686, 0.9088157998506243, 0.9169099079855296, 0.9348185968444159, 0.9299619132277865, 0.927783454332262, 0.9460958693060657, 0.9442510282390902]}, {\"categories\": [\"0\", \"1\", \"2\", \"3\", \"4\", \"5\", \"6\", \"7\", \"8\", \"9\", \"10\", \"11\", \"12\", \"13\", \"14\", \"15\", \"16\", \"17\", \"18\", \"19\", \"20\", \"21\"], \"mode\": \"lines\", \"name\": \"AUC_macro_max\", \"stepped\": true, \"type\": \"scatter\", \"data\": [0.9465955499217878, 0.9465955499217878, 0.9465955499217878, 0.9465955499217878, 0.9465955499217878, 0.9465955499217878, 0.9465955499217878, 0.9465955499217878, 0.9465955499217878, 0.9465955499217878, 0.9465955499217878, 0.9465955499217878, 0.9465955499217878, 0.9465955499217878, 0.9465955499217878, 0.9465955499217878, 0.9465955499217878, 0.9465955499217878, 0.9465955499217878, 0.9465955499217878, 0.9465955499217878, 0.9465955499217878]}], \"matthews_correlation\": [{\"categories\": [\"0\", \"1\", \"2\", \"3\", \"4\", \"5\", \"6\", \"7\", \"8\", \"9\", \"10\", \"11\", \"12\", \"13\", \"14\", \"15\", \"16\", \"17\", \"18\", \"19\", \"20\", \"21\"], \"mode\": \"markers\", \"name\": \"matthews_correlation\", \"stepped\": false, \"type\": \"scatter\", \"data\": [0.5384767252621492, 0.5279798967799902, 0.2766737913472377, 0.0, 0.5099645161202826, 0.47720153486919914, 0.3862506901836638, 0.3199957350563901, 0.17192281179299093, 0.45929624032679417, 0.46890450159428454, 0.20821195701577788, 0.0, 0.3268149777583108, 0.0, 0.25551537735424307, 0.0, 0.49249254658606534, 0.4649383399304681, 0.35747601370756027, 0.5329152779201204, 0.5118995037719754]}, {\"categories\": [\"0\", \"1\", \"2\", \"3\", \"4\", \"5\", \"6\", \"7\", \"8\", \"9\", \"10\", \"11\", \"12\", \"13\", \"14\", \"15\", \"16\", \"17\", \"18\", \"19\", \"20\", \"21\"], \"mode\": \"lines\", \"name\": \"matthews_correlation_max\", \"stepped\": true, \"type\": \"scatter\", \"data\": [0.5384767252621492, 0.5384767252621492, 0.5384767252621492, 0.5384767252621492, 0.5384767252621492, 0.5384767252621492, 0.5384767252621492, 0.5384767252621492, 0.5384767252621492, 0.5384767252621492, 0.5384767252621492, 0.5384767252621492, 0.5384767252621492, 0.5384767252621492, 0.5384767252621492, 0.5384767252621492, 0.5384767252621492, 0.5384767252621492, 0.5384767252621492, 0.5384767252621492, 0.5384767252621492, 0.5384767252621492]}], \"precision_score_weighted\": [{\"categories\": [\"0\", \"1\", \"2\", \"3\", \"4\", \"5\", \"6\", \"7\", \"8\", \"9\", \"10\", \"11\", \"12\", \"13\", \"14\", \"15\", \"16\", \"17\", \"18\", \"19\", \"20\", \"21\"], \"mode\": \"markers\", \"name\": \"precision_score_weighted\", \"stepped\": false, \"type\": \"scatter\", \"data\": [0.9086162958754065, 0.9071114673199562, 0.890265847337799, 0.7881068633780752, 0.9178719833256096, 0.8975387041629739, 0.88797833782216, 0.8847838879430899, 0.8735921401278061, 0.8966285166553221, 0.8979532870158046, 0.8747478657686282, 0.7881068633780752, 0.8788603054297282, 0.7881068633780752, 0.8846688823523531, 0.7881068633780752, 0.9003950111749269, 0.8957132849346767, 0.8876312558389567, 0.9080729608798791, 0.9042250627171438]}, {\"categories\": [\"0\", \"1\", \"2\", \"3\", \"4\", \"5\", \"6\", \"7\", \"8\", \"9\", \"10\", \"11\", \"12\", \"13\", \"14\", \"15\", \"16\", \"17\", \"18\", \"19\", \"20\", \"21\"], \"mode\": \"lines\", \"name\": \"precision_score_weighted_max\", \"stepped\": true, \"type\": \"scatter\", \"data\": [0.9086162958754065, 0.9086162958754065, 0.9086162958754065, 0.9086162958754065, 0.9178719833256096, 0.9178719833256096, 0.9178719833256096, 0.9178719833256096, 0.9178719833256096, 0.9178719833256096, 0.9178719833256096, 0.9178719833256096, 0.9178719833256096, 0.9178719833256096, 0.9178719833256096, 0.9178719833256096, 0.9178719833256096, 0.9178719833256096, 0.9178719833256096, 0.9178719833256096, 0.9178719833256096, 0.9178719833256096]}], \"precision_score_macro\": [{\"categories\": [\"0\", \"1\", \"2\", \"3\", \"4\", \"5\", \"6\", \"7\", \"8\", \"9\", \"10\", \"11\", \"12\", \"13\", \"14\", \"15\", \"16\", \"17\", \"18\", \"19\", \"20\", \"21\"], \"mode\": \"markers\", \"name\": \"precision_score_macro\", \"stepped\": false, \"type\": \"scatter\", \"data\": [0.7923384267455772, 0.797806039713215, 0.8605297949182749, 0.4438760026013441, 0.6805643813320946, 0.7782365182520248, 0.7989242491845451, 0.8169227617842052, 0.8079116786840889, 0.7963327276087391, 0.7965062131770424, 0.8051811379767635, 0.4438760026013441, 0.7804422029400607, 0.4438760026013441, 0.8381058414995077, 0.4438760026013441, 0.7842103267248333, 0.7794246250172667, 0.8145344800425637, 0.8002688177316077, 0.7926989694672434]}, {\"categories\": [\"0\", \"1\", \"2\", \"3\", \"4\", \"5\", \"6\", \"7\", \"8\", \"9\", \"10\", \"11\", \"12\", \"13\", \"14\", \"15\", \"16\", \"17\", \"18\", \"19\", \"20\", \"21\"], \"mode\": \"lines\", \"name\": \"precision_score_macro_max\", \"stepped\": true, \"type\": \"scatter\", \"data\": [0.7923384267455772, 0.797806039713215, 0.8605297949182749, 0.8605297949182749, 0.8605297949182749, 0.8605297949182749, 0.8605297949182749, 0.8605297949182749, 0.8605297949182749, 0.8605297949182749, 0.8605297949182749, 0.8605297949182749, 0.8605297949182749, 0.8605297949182749, 0.8605297949182749, 0.8605297949182749, 0.8605297949182749, 0.8605297949182749, 0.8605297949182749, 0.8605297949182749, 0.8605297949182749, 0.8605297949182749]}], \"norm_macro_recall\": [{\"categories\": [\"0\", \"1\", \"2\", \"3\", \"4\", \"5\", \"6\", \"7\", \"8\", \"9\", \"10\", \"11\", \"12\", \"13\", \"14\", \"15\", \"16\", \"17\", \"18\", \"19\", \"20\", \"21\"], \"mode\": \"markers\", \"name\": \"norm_macro_recall\", \"stepped\": false, \"type\": \"scatter\", \"data\": [0.49602839086072137, 0.4681507994906287, 0.10987046601946933, 0.0, 0.7201714379831685, 0.4093362112209774, 0.24986237534297703, 0.1622377634764654, 0.048107048766374436, 0.356142645484196, 0.37089157596066136, 0.0715767306437221, 0.0, 0.19047535692863318, 0.0, 0.10122635975290355, 0.0, 0.42685365118596563, 0.386837729672014, 0.20359293376449789, 0.4729513336679476, 0.44819957221687534]}, {\"categories\": [\"0\", \"1\", \"2\", \"3\", \"4\", \"5\", \"6\", \"7\", \"8\", \"9\", \"10\", \"11\", \"12\", \"13\", \"14\", \"15\", \"16\", \"17\", \"18\", \"19\", \"20\", \"21\"], \"mode\": \"lines\", \"name\": \"norm_macro_recall_max\", \"stepped\": true, \"type\": \"scatter\", \"data\": [0.49602839086072137, 0.49602839086072137, 0.49602839086072137, 0.49602839086072137, 0.7201714379831685, 0.7201714379831685, 0.7201714379831685, 0.7201714379831685, 0.7201714379831685, 0.7201714379831685, 0.7201714379831685, 0.7201714379831685, 0.7201714379831685, 0.7201714379831685, 0.7201714379831685, 0.7201714379831685, 0.7201714379831685, 0.7201714379831685, 0.7201714379831685, 0.7201714379831685, 0.7201714379831685, 0.7201714379831685]}]}, \"metricName\": null, \"primaryMetricName\": \"accuracy\", \"showLegend\": false}, \"run_metrics\": [{\"name\": \"experiment_status\", \"run_id\": \"AutoML_f0e4bb01-c155-4db8-bb86-c9c65f160027\", \"categories\": [0, 1, 2, 3, 4, 5, 6], \"series\": [{\"data\": [\"DatasetEvaluation\", \"FeaturesGeneration\", \"DatasetFeaturization\", \"DatasetFeaturizationCompleted\", \"DatasetBalancing\", \"DatasetCrossValidationSplit\", \"ModelSelection\"]}]}, {\"name\": \"experiment_status_description\", \"run_id\": \"AutoML_f0e4bb01-c155-4db8-bb86-c9c65f160027\", \"categories\": [0, 1, 2, 3, 4, 5, 6], \"series\": [{\"data\": [\"Gathering dataset statistics.\", \"Generating features for the dataset.\", \"Beginning to fit featurizers and featurize the dataset.\", \"Completed fit featurizers and featurizing the dataset.\", \"Performing class balancing sweeping\", \"Generating individually featurized CV splits.\", \"Beginning model selection.\"]}]}, {\"name\": \"average_precision_score_micro\", \"run_id\": \"AutoML_f0e4bb01-c155-4db8-bb86-c9c65f160027\", \"categories\": [0], \"series\": [{\"data\": [0.9809578757422284]}]}, {\"name\": \"AUC_macro\", \"run_id\": \"AutoML_f0e4bb01-c155-4db8-bb86-c9c65f160027\", \"categories\": [0], \"series\": [{\"data\": [0.9460958693060657]}]}, {\"name\": \"recall_score_weighted\", \"run_id\": \"AutoML_f0e4bb01-c155-4db8-bb86-c9c65f160027\", \"categories\": [0], \"series\": [{\"data\": [0.9154129633644048]}]}, {\"name\": \"AUC_micro\", \"run_id\": \"AutoML_f0e4bb01-c155-4db8-bb86-c9c65f160027\", \"categories\": [0], \"series\": [{\"data\": [0.9802558664993027]}]}, {\"name\": \"recall_score_macro\", \"run_id\": \"AutoML_f0e4bb01-c155-4db8-bb86-c9c65f160027\", \"categories\": [0], \"series\": [{\"data\": [0.7364756668339738]}]}, {\"name\": \"recall_score_micro\", \"run_id\": \"AutoML_f0e4bb01-c155-4db8-bb86-c9c65f160027\", \"categories\": [0], \"series\": [{\"data\": [0.9154129633644048]}]}, {\"name\": \"precision_score_macro\", \"run_id\": \"AutoML_f0e4bb01-c155-4db8-bb86-c9c65f160027\", \"categories\": [0], \"series\": [{\"data\": [0.8002688177316077]}]}, {\"name\": \"matthews_correlation\", \"run_id\": \"AutoML_f0e4bb01-c155-4db8-bb86-c9c65f160027\", \"categories\": [0], \"series\": [{\"data\": [0.5329152779201204]}]}, {\"name\": \"f1_score_macro\", \"run_id\": \"AutoML_f0e4bb01-c155-4db8-bb86-c9c65f160027\", \"categories\": [0], \"series\": [{\"data\": [0.7630554452318508]}]}, {\"name\": \"norm_macro_recall\", \"run_id\": \"AutoML_f0e4bb01-c155-4db8-bb86-c9c65f160027\", \"categories\": [0], \"series\": [{\"data\": [0.4729513336679476]}]}, {\"name\": \"log_loss\", \"run_id\": \"AutoML_f0e4bb01-c155-4db8-bb86-c9c65f160027\", \"categories\": [0], \"series\": [{\"data\": [0.18936172955406744]}]}, {\"name\": \"average_precision_score_weighted\", \"run_id\": \"AutoML_f0e4bb01-c155-4db8-bb86-c9c65f160027\", \"categories\": [0], \"series\": [{\"data\": [0.9545997988260477]}]}, {\"name\": \"precision_score_weighted\", \"run_id\": \"AutoML_f0e4bb01-c155-4db8-bb86-c9c65f160027\", \"categories\": [0], \"series\": [{\"data\": [0.9080729608798791]}]}, {\"name\": \"f1_score_weighted\", \"run_id\": \"AutoML_f0e4bb01-c155-4db8-bb86-c9c65f160027\", \"categories\": [0], \"series\": [{\"data\": [0.9103894387852807]}]}, {\"name\": \"f1_score_micro\", \"run_id\": \"AutoML_f0e4bb01-c155-4db8-bb86-c9c65f160027\", \"categories\": [0], \"series\": [{\"data\": [0.9154129633644048]}]}, {\"name\": \"average_precision_score_macro\", \"run_id\": \"AutoML_f0e4bb01-c155-4db8-bb86-c9c65f160027\", \"categories\": [0], \"series\": [{\"data\": [0.8226557717107363]}]}, {\"name\": \"precision_score_micro\", \"run_id\": \"AutoML_f0e4bb01-c155-4db8-bb86-c9c65f160027\", \"categories\": [0], \"series\": [{\"data\": [0.9154129633644048]}]}, {\"name\": \"accuracy\", \"run_id\": \"AutoML_f0e4bb01-c155-4db8-bb86-c9c65f160027\", \"categories\": [0], \"series\": [{\"data\": [0.9154129633644048]}]}, {\"name\": \"AUC_weighted\", \"run_id\": \"AutoML_f0e4bb01-c155-4db8-bb86-c9c65f160027\", \"categories\": [0], \"series\": [{\"data\": [0.9460958693060657]}]}, {\"name\": \"balanced_accuracy\", \"run_id\": \"AutoML_f0e4bb01-c155-4db8-bb86-c9c65f160027\", \"categories\": [0], \"series\": [{\"data\": [0.7364756668339738]}]}, {\"name\": \"weighted_accuracy\", \"run_id\": \"AutoML_f0e4bb01-c155-4db8-bb86-c9c65f160027\", \"categories\": [0], \"series\": [{\"data\": [0.9599592493976008]}]}], \"run_logs\": \"\\nRun is completed.\", \"graph\": {}, \"widget_settings\": {\"childWidgetDisplay\": \"popup\", \"send_telemetry\": false, \"log_level\": \"INFO\", \"sdk_version\": \"1.19.0\"}, \"loading\": false}"
     },
     "metadata": {},
     "output_type": "display_data"
    },
    {
     "name": "stdout",
     "output_type": "stream",
     "text": [
      "\n",
      "\n",
      "****************************************************************************************************\n",
      "DATA GUARDRAILS: \n",
      "\n",
      "TYPE:         Class balancing detection\n",
      "STATUS:       ALERTED\n",
      "DESCRIPTION:  To decrease model bias, please cancel the current run and fix balancing problem.\n",
      "              Learn more about imbalanced data: https://aka.ms/AutomatedMLImbalancedData\n",
      "DETAILS:      Imbalanced data can lead to a falsely perceived positive effect of a model's accuracy because the input data has bias towards one class.\n",
      "+---------------------------------+---------------------------------+--------------------------------------+\n",
      "|Size of the smallest class       |Name/Label of the smallest class |Number of samples in the training data|\n",
      "+=================================+=================================+======================================+\n",
      "|2589                             |1                                |23065                                 |\n",
      "+---------------------------------+---------------------------------+--------------------------------------+\n",
      "\n",
      "****************************************************************************************************\n",
      "\n",
      "TYPE:         Missing feature values imputation\n",
      "STATUS:       PASSED\n",
      "DESCRIPTION:  No feature missing values were detected in the training data.\n",
      "              Learn more about missing value imputation: https://aka.ms/AutomatedMLFeaturization\n",
      "\n",
      "****************************************************************************************************\n",
      "\n",
      "TYPE:         High cardinality feature detection\n",
      "STATUS:       PASSED\n",
      "DESCRIPTION:  Your inputs were analyzed, and no high cardinality features were detected.\n",
      "              Learn more about high cardinality feature handling: https://aka.ms/AutomatedMLFeaturization\n",
      "\n",
      "****************************************************************************************************\n",
      "\n",
      "****************************************************************************************************\n",
      "ITERATION: The iteration being evaluated.\n",
      "PIPELINE: A summary description of the pipeline being evaluated.\n",
      "DURATION: Time taken for the current iteration.\n",
      "METRIC: The result of computing score on the fitted pipeline.\n",
      "BEST: The best observed score thus far.\n",
      "****************************************************************************************************\n",
      "\n",
      " ITERATION   PIPELINE                                       DURATION      METRIC      BEST\n",
      "         0   MaxAbsScaler LightGBM                          0:00:49       0.9142    0.9142\n",
      "         1   MaxAbsScaler XGBoostClassifier                 0:00:57       0.9146    0.9146\n",
      "         2   MinMaxScaler RandomForest                      0:00:45       0.8976    0.9146\n",
      "         3   MinMaxScaler RandomForest                      0:00:50       0.8878    0.9146\n",
      "         4   MinMaxScaler RandomForest                      0:00:52       0.8190    0.9146\n",
      "         5   SparseNormalizer XGBoostClassifier             0:01:01       0.9076    0.9146\n",
      "         6   MaxAbsScaler GradientBoosting                  0:00:59       0.9038    0.9146\n",
      "         7   SparseNormalizer XGBoostClassifier             0:01:07       0.8997    0.9146\n",
      "         8   MinMaxScaler LightGBM                          0:00:46       0.8912    0.9146\n",
      "         9   MinMaxScaler LogisticRegression                0:01:04       0.9092    0.9146\n",
      "        10   StandardScalerWrapper LogisticRegression       0:00:58       0.9099    0.9146\n",
      "        11   MinMaxScaler LightGBM                          0:00:48       0.8928    0.9146\n",
      "        12   StandardScalerWrapper LightGBM                 0:00:51       0.8878    0.9146\n",
      "        13   SparseNormalizer LightGBM                      0:01:09       0.8985    0.9146\n",
      "        14   MinMaxScaler LightGBM                          0:00:55       0.8878    0.9146\n",
      "        15   RobustScaler ExtremeRandomTrees                0:01:25       0.8958    0.9146\n",
      "        16   StandardScalerWrapper RandomForest             0:03:24       0.8878    0.9146\n",
      "        17   SparseNormalizer XGBoostClassifier             0:01:31       0.9096    0.9146\n",
      "        18   SparseNormalizer XGBoostClassifier             0:01:08       0.9070    0.9146\n"
     ]
    }
   ],
   "source": [
    "# Submit your automl run\n",
    "from azureml.widgets import RunDetails\n",
    "\n",
    "### YOUR CODE HERE ###\n",
    "automl_run = experiment.submit(automl_config, show_output = True)\n",
    "RunDetails(automl_run).show()\n",
    "automl_run.wait_for_completion(show_output=True)"
   ]
  },
  {
   "cell_type": "code",
   "execution_count": null,
   "metadata": {},
   "outputs": [],
   "source": [
    "best_run, fitted_model = automl_run.get_output()\n",
    "print(best_run)\n",
    "print(fitted_model)"
   ]
  },
  {
   "cell_type": "code",
   "execution_count": null,
   "metadata": {},
   "outputs": [],
   "source": [
    "best_run.register_model(model_name=\"Bank_Marketing_AutoML_best_model.pkl\", model_path =\"./outputs/\")"
   ]
  },
  {
   "cell_type": "code",
   "execution_count": null,
   "metadata": {},
   "outputs": [],
   "source": [
    "best_run.get_tags()"
   ]
  },
  {
   "cell_type": "code",
   "execution_count": null,
   "metadata": {},
   "outputs": [],
   "source": [
    "best_run"
   ]
  },
  {
   "cell_type": "code",
   "execution_count": null,
   "metadata": {},
   "outputs": [],
   "source": []
  }
 ],
 "metadata": {
  "kernel_info": {
   "name": "python3-azureml"
  },
  "kernelspec": {
   "display_name": "Python 3.6 - AzureML",
   "language": "python",
   "name": "python3-azureml"
  },
  "language_info": {
   "codemirror_mode": {
    "name": "ipython",
    "version": 3
   },
   "file_extension": ".py",
   "mimetype": "text/x-python",
   "name": "python",
   "nbconvert_exporter": "python",
   "pygments_lexer": "ipython3",
   "version": "3.6.9"
  },
  "nteract": {
   "version": "nteract-front-end@1.0.0"
  }
 },
 "nbformat": 4,
 "nbformat_minor": 4
}
